{
 "cells": [
  {
   "cell_type": "code",
   "execution_count": 8,
   "id": "c03ccee1",
   "metadata": {},
   "outputs": [],
   "source": [
    "import torch"
   ]
  },
  {
   "cell_type": "code",
   "execution_count": 9,
   "id": "f3fdfdaf",
   "metadata": {},
   "outputs": [],
   "source": [
    "%load_ext autoreload\n",
    "%autoreload 2"
   ]
  },
  {
   "cell_type": "code",
   "execution_count": 10,
   "id": "989663e2",
   "metadata": {},
   "outputs": [],
   "source": [
    "from torch import nn"
   ]
  },
  {
   "cell_type": "code",
   "execution_count": 11,
   "id": "4757e942",
   "metadata": {},
   "outputs": [],
   "source": [
    "from encoder import Encoder\n",
    "import torch\n",
    "import torch.nn as nn\n",
    "from attention import MultiHeadAttention\n",
    "from feed_forward import FFN\n",
    "from embedding import Embedding\n",
    "from pos_en import PosEncoding\n"
   ]
  },
  {
   "cell_type": "code",
   "execution_count": 12,
   "id": "f7c32c46",
   "metadata": {},
   "outputs": [],
   "source": [
    "# enc = Encoder(4,2,4,4,1,4)"
   ]
  },
  {
   "cell_type": "code",
   "execution_count": null,
   "id": "fc633aa4",
   "metadata": {},
   "outputs": [],
   "source": []
  },
  {
   "cell_type": "code",
   "execution_count": 13,
   "id": "cc17973c",
   "metadata": {},
   "outputs": [],
   "source": [
    "# pe = PosEncoding(max_len=3, embedding_dim=4)\n",
    "\n",
    "# x = torch.zeros(1,4)\n",
    "\n",
    "# pe(x)"
   ]
  },
  {
   "cell_type": "code",
   "execution_count": 14,
   "id": "98546ccb",
   "metadata": {},
   "outputs": [],
   "source": [
    "# y = torch.ones(1,4)\n",
    "\n",
    "# pe(y)"
   ]
  },
  {
   "cell_type": "code",
   "execution_count": 15,
   "id": "85ce49f4",
   "metadata": {},
   "outputs": [],
   "source": [
    "# %pip install zeta"
   ]
  },
  {
   "cell_type": "code",
   "execution_count": null,
   "id": "4681316f",
   "metadata": {},
   "outputs": [
    {
     "name": "stdout",
     "output_type": "stream",
     "text": [
      "tensor([[ 0.0000e+00,  1.0000e+00,  0.0000e+00,  ...,  1.0000e+00,\n",
      "          0.0000e+00,  1.0000e+00],\n",
      "        [ 8.4147e-01,  5.6969e-01,  8.0196e-01,  ...,  1.0000e+00,\n",
      "          1.0746e-08,  1.0000e+00],\n",
      "        [ 9.0930e-01, -3.5090e-01,  9.5814e-01,  ...,  1.0000e+00,\n",
      "          2.1492e-08,  1.0000e+00],\n",
      "        ...,\n",
      "        [ 9.5638e-01,  6.1128e-01, -7.2968e-03,  ...,  1.0000e+00,\n",
      "          2.9014e-07,  1.0000e+00],\n",
      "        [ 2.7091e-01, -3.0219e-01,  7.9758e-01,  ...,  1.0000e+00,\n",
      "          3.0089e-07,  1.0000e+00],\n",
      "        [-6.6363e-01, -9.5559e-01,  9.6021e-01,  ...,  1.0000e+00,\n",
      "          3.1164e-07,  1.0000e+00]])\n",
      "torch.Size([4, 30, 512])\n",
      "torch.Size([4, 30, 512])\n"
     ]
    }
   ],
   "source": [
    "d_model = 512\n",
    "num_heads = 8\n",
    "d_k = d_v = 64\n",
    "batch_size = 4\n",
    "d_inner = 2048\n",
    "max_len = 30\n",
    "\n",
    "Embed = Embedding(max_len, d_model)\n",
    "tokens = torch.randint(0, 32, (batch_size, max_len))  # give 32 random token indinces (batch of 4, sequence length 100)\n",
    "embedding = Embed(tokens)\n",
    "\n",
    "PosEnc = PosEncoding(d_model, max_len)\n",
    "input = PosEnc(embedding)\n",
    "\n",
    "print(embedding.shape)\n",
    "# x = torch.randn(batch_size, seq_len, d_model)\n",
    "\n",
    "encoder = Encoder(d_model, num_heads, d_k, d_v, batch_size, d_inner, max_len)\n",
    "\n",
    "output = encoder(input)\n",
    "\n",
    "print(output.shape)  # Should be: (batch, seq, inner dim)"
   ]
  },
  {
   "cell_type": "code",
   "execution_count": 17,
   "id": "6e2054f1",
   "metadata": {},
   "outputs": [],
   "source": [
    "from decoder import Decoder"
   ]
  },
  {
   "cell_type": "code",
   "execution_count": 20,
   "id": "f7fd5361",
   "metadata": {},
   "outputs": [
    {
     "name": "stdout",
     "output_type": "stream",
     "text": [
      "torch.Size([4, 30, 512])\n"
     ]
    }
   ],
   "source": [
    "d_model = 512\n",
    "num_heads = 8\n",
    "d_k = d_v = 64\n",
    "batch_size = 4\n",
    "d_inner = 2048\n",
    "max_len = 30\n",
    "\n",
    "# Embed = Embedding(max_len, d_model)\n",
    "tokens = torch.randint(0, 32, (batch_size, max_len))  # give 32 random token indinces (batch of 4, sequence length 100)\n",
    "embedding = Embed(tokens)\n",
    "\n",
    "# PosEnc = PosEncoding(d_model, max_len)\n",
    "x = PosEnc(embedding)\n",
    "\n",
    "# print(embedding.shape)\n",
    "# # x = torch.randn(batch_size, seq_len, d_model)\n",
    "#     def __init__(self, embed_dim, n_heads,d_k, d_v, batch_size, seq_len):\n",
    "\n",
    "print(x.shape)\n",
    "decoder = Decoder(d_model, num_heads, d_k, d_v, batch_size,max_len, d_inner)\n"
   ]
  },
  {
   "cell_type": "code",
   "execution_count": 24,
   "id": "b78b6e01",
   "metadata": {},
   "outputs": [
    {
     "name": "stdout",
     "output_type": "stream",
     "text": [
      "torch.Size([4, 30, 512])\n"
     ]
    }
   ],
   "source": [
    "encoder_output = output\n",
    "dec_output = decoder(x, encoder_output)\n",
    "\n",
    "\n",
    "# output = encoder(input)\n",
    "\n",
    "print(dec_output.shape)  # Should be: (4, 10, 512)"
   ]
  },
  {
   "cell_type": "code",
   "execution_count": null,
   "id": "9f3bd82f",
   "metadata": {},
   "outputs": [],
   "source": []
  }
 ],
 "metadata": {
  "kernelspec": {
   "display_name": "emcomm",
   "language": "python",
   "name": "python3"
  },
  "language_info": {
   "codemirror_mode": {
    "name": "ipython",
    "version": 3
   },
   "file_extension": ".py",
   "mimetype": "text/x-python",
   "name": "python",
   "nbconvert_exporter": "python",
   "pygments_lexer": "ipython3",
   "version": "3.11.9"
  }
 },
 "nbformat": 4,
 "nbformat_minor": 5
}
