{
 "cells": [
  {
   "cell_type": "code",
   "execution_count": 1,
   "id": "c03ccee1",
   "metadata": {},
   "outputs": [],
   "source": [
    "import torch"
   ]
  },
  {
   "cell_type": "code",
   "execution_count": 2,
   "id": "f3fdfdaf",
   "metadata": {},
   "outputs": [],
   "source": [
    "%load_ext autoreload\n",
    "%autoreload 2"
   ]
  },
  {
   "cell_type": "code",
   "execution_count": 3,
   "id": "989663e2",
   "metadata": {},
   "outputs": [],
   "source": [
    "from torch import nn"
   ]
  },
  {
   "cell_type": "code",
   "execution_count": 4,
   "id": "4757e942",
   "metadata": {},
   "outputs": [
    {
     "name": "stdout",
     "output_type": "stream",
     "text": [
      "torch.Size([4, 30, 512])\n",
      "tensor([[ 0.0000e+00,  1.0000e+00,  0.0000e+00,  ...,  1.0000e+00,\n",
      "          0.0000e+00,  1.0000e+00],\n",
      "        [ 8.4147e-01,  5.6969e-01,  8.0196e-01,  ...,  1.0000e+00,\n",
      "          1.0746e-08,  1.0000e+00],\n",
      "        [ 9.0930e-01, -3.5090e-01,  9.5814e-01,  ...,  1.0000e+00,\n",
      "          2.1492e-08,  1.0000e+00],\n",
      "        ...,\n",
      "        [ 9.5638e-01,  6.1128e-01, -7.2968e-03,  ...,  1.0000e+00,\n",
      "          2.9014e-07,  1.0000e+00],\n",
      "        [ 2.7091e-01, -3.0219e-01,  7.9758e-01,  ...,  1.0000e+00,\n",
      "          3.0089e-07,  1.0000e+00],\n",
      "        [-6.6363e-01, -9.5559e-01,  9.6021e-01,  ...,  1.0000e+00,\n",
      "          3.1164e-07,  1.0000e+00]])\n",
      "torch.Size([4, 30, 512])\n",
      "torch.Size([4, 30, 512])\n"
     ]
    }
   ],
   "source": [
    "from encoder import Encoder\n",
    "import torch\n",
    "import torch.nn as nn\n",
    "from attention import MultiHeadAttention\n",
    "from feed_forward import FFN\n",
    "from embedding import Embedding\n",
    "from pos_en import PosEncoding"
   ]
  },
  {
   "cell_type": "code",
   "execution_count": 5,
   "id": "f7c32c46",
   "metadata": {},
   "outputs": [],
   "source": [
    "# enc = Encoder(4,2,4,4,1,4)"
   ]
  },
  {
   "cell_type": "code",
   "execution_count": null,
   "id": "fc633aa4",
   "metadata": {},
   "outputs": [
    {
     "name": "stdout",
     "output_type": "stream",
     "text": [
      "tensor([[ 0.0000e+00,  1.0000e+00,  0.0000e+00,  ...,  1.0000e+00,\n",
      "          0.0000e+00,  1.0000e+00],\n",
      "        [ 8.4147e-01,  5.6969e-01,  8.0196e-01,  ...,  1.0000e+00,\n",
      "          1.0746e-08,  1.0000e+00],\n",
      "        [ 9.0930e-01, -3.5090e-01,  9.5814e-01,  ...,  1.0000e+00,\n",
      "          2.1492e-08,  1.0000e+00],\n",
      "        ...,\n",
      "        [ 9.5638e-01,  6.1128e-01, -7.2968e-03,  ...,  1.0000e+00,\n",
      "          2.9014e-07,  1.0000e+00],\n",
      "        [ 2.7091e-01, -3.0219e-01,  7.9758e-01,  ...,  1.0000e+00,\n",
      "          3.0089e-07,  1.0000e+00],\n",
      "        [-6.6363e-01, -9.5559e-01,  9.6021e-01,  ...,  1.0000e+00,\n",
      "          3.1164e-07,  1.0000e+00]])\n",
      "torch.Size([4, 30, 512])\n",
      "torch.Size([4, 30, 512])\n"
     ]
    }
   ],
   "source": []
  },
  {
   "cell_type": "code",
   "execution_count": null,
   "id": "cc17973c",
   "metadata": {},
   "outputs": [
    {
     "name": "stdout",
     "output_type": "stream",
     "text": [
      "tensor([[0.0000e+00, 1.0000e+00, 0.0000e+00, 1.0000e+00],\n",
      "        [8.4147e-01, 9.9995e-01, 1.0000e-04, 1.0000e+00],\n",
      "        [9.0930e-01, 9.9980e-01, 2.0000e-04, 1.0000e+00]])\n"
     ]
    },
    {
     "data": {
      "text/plain": [
       "tensor([[0.0000, 0.0000, 0.0000, 0.0000],\n",
       "        [0.8415, 0.8415, 0.8415, 0.8415],\n",
       "        [0.9093, 0.9093, 0.9093, 0.9093]])"
      ]
     },
     "execution_count": 69,
     "metadata": {},
     "output_type": "execute_result"
    }
   ],
   "source": [
    "pe = PosEncoding(max_len=3, embedding_dim=4)\n",
    "\n",
    "x = torch.zeros(1,4)\n",
    "\n",
    "pe(x)"
   ]
  },
  {
   "cell_type": "code",
   "execution_count": null,
   "id": "98546ccb",
   "metadata": {},
   "outputs": [
    {
     "data": {
      "text/plain": [
       "tensor([[1.0000, 1.0000, 1.0000, 1.0000],\n",
       "        [1.8415, 1.8415, 1.8415, 1.8415],\n",
       "        [1.9093, 1.9093, 1.9093, 1.9093]])"
      ]
     },
     "execution_count": 70,
     "metadata": {},
     "output_type": "execute_result"
    }
   ],
   "source": [
    "y = torch.ones(1,4)\n",
    "\n",
    "pe(y)"
   ]
  },
  {
   "cell_type": "code",
   "execution_count": null,
   "id": "85ce49f4",
   "metadata": {},
   "outputs": [
    {
     "name": "stdout",
     "output_type": "stream",
     "text": [
      "Note: you may need to restart the kernel to use updated packages.\n"
     ]
    },
    {
     "name": "stderr",
     "output_type": "stream",
     "text": [
      "ERROR: Could not find a version that satisfies the requirement zeta (from versions: 0.7b1-py2.6.egg)\n",
      "ERROR: No matching distribution found for zeta\n",
      "\n",
      "[notice] A new release of pip is available: 24.0 -> 25.1\n",
      "[notice] To update, run: python.exe -m pip install --upgrade pip\n"
     ]
    }
   ],
   "source": [
    "# %pip install zeta"
   ]
  },
  {
   "cell_type": "code",
   "execution_count": 8,
   "id": "4681316f",
   "metadata": {},
   "outputs": [
    {
     "name": "stdout",
     "output_type": "stream",
     "text": [
      "tensor([[ 0.0000e+00,  1.0000e+00,  0.0000e+00,  ...,  1.0000e+00,\n",
      "          0.0000e+00,  1.0000e+00],\n",
      "        [ 8.4147e-01,  5.6969e-01,  8.0196e-01,  ...,  1.0000e+00,\n",
      "          1.0746e-08,  1.0000e+00],\n",
      "        [ 9.0930e-01, -3.5090e-01,  9.5814e-01,  ...,  1.0000e+00,\n",
      "          2.1492e-08,  1.0000e+00],\n",
      "        ...,\n",
      "        [ 9.5638e-01,  6.1128e-01, -7.2968e-03,  ...,  1.0000e+00,\n",
      "          2.9014e-07,  1.0000e+00],\n",
      "        [ 2.7091e-01, -3.0219e-01,  7.9758e-01,  ...,  1.0000e+00,\n",
      "          3.0089e-07,  1.0000e+00],\n",
      "        [-6.6363e-01, -9.5559e-01,  9.6021e-01,  ...,  1.0000e+00,\n",
      "          3.1164e-07,  1.0000e+00]])\n",
      "torch.Size([4, 30, 512])\n",
      "torch.Size([4, 30, 512])\n"
     ]
    }
   ],
   "source": [
    "d_model = 512\n",
    "num_heads = 8\n",
    "d_k = d_v = 64\n",
    "batch_size = 4\n",
    "d_inner = 2048\n",
    "max_len = 30\n",
    "\n",
    "Embed = Embedding(max_len, d_model)\n",
    "tokens = torch.randint(0, 32, (batch_size, max_len))  # give 32 random token indinces (batch of 4, sequence length 100)\n",
    "embedding = Embed(tokens)\n",
    "\n",
    "PosEnc = PosEncoding(d_model, max_len)\n",
    "input = PosEnc(embedding)\n",
    "\n",
    "print(embedding.shape)\n",
    "# x = torch.randn(batch_size, seq_len, d_model)\n",
    "\n",
    "encoder = Encoder(d_model, num_heads, d_k, d_v, batch_size, d_inner, max_len)\n",
    "\n",
    "output = encoder(input)\n",
    "\n",
    "print(output.shape)  # Should be: (4, 10, 512)"
   ]
  },
  {
   "cell_type": "code",
   "execution_count": 9,
   "id": "6e2054f1",
   "metadata": {},
   "outputs": [],
   "source": [
    "from decoder import Decoder"
   ]
  },
  {
   "cell_type": "code",
   "execution_count": 12,
   "id": "f7fd5361",
   "metadata": {},
   "outputs": [
    {
     "ename": "RuntimeError",
     "evalue": "shape '[4, 2048, 8, 64]' is invalid for input of size 61440",
     "output_type": "error",
     "traceback": [
      "\u001b[31m---------------------------------------------------------------------------\u001b[39m",
      "\u001b[31mRuntimeError\u001b[39m                              Traceback (most recent call last)",
      "\u001b[36mCell\u001b[39m\u001b[36m \u001b[39m\u001b[32mIn[12]\u001b[39m\u001b[32m, line 20\u001b[39m\n\u001b[32m     18\u001b[39m decoder = Decoder(d_model, num_heads, d_k, d_v, batch_size, d_inner, max_len)\n\u001b[32m     19\u001b[39m encoder_output = output\n\u001b[32m---> \u001b[39m\u001b[32m20\u001b[39m dec_output = \u001b[43mdecoder\u001b[49m\u001b[43m(\u001b[49m\u001b[43mx\u001b[49m\u001b[43m,\u001b[49m\u001b[43m \u001b[49m\u001b[43mencoder_output\u001b[49m\u001b[43m)\u001b[49m\n\u001b[32m     21\u001b[39m \u001b[38;5;66;03m# output = encoder(input)\u001b[39;00m\n\u001b[32m     22\u001b[39m \n\u001b[32m     23\u001b[39m \u001b[38;5;66;03m# print(output.shape)  # Should be: (4, 10, 512)\u001b[39;00m\n",
      "\u001b[36mFile \u001b[39m\u001b[32mc:\\Users\\Elena\\Documents\\elte\\sci\\emcomm\\Lib\\site-packages\\torch\\nn\\modules\\module.py:1739\u001b[39m, in \u001b[36mModule._wrapped_call_impl\u001b[39m\u001b[34m(self, *args, **kwargs)\u001b[39m\n\u001b[32m   1737\u001b[39m     \u001b[38;5;28;01mreturn\u001b[39;00m \u001b[38;5;28mself\u001b[39m._compiled_call_impl(*args, **kwargs)  \u001b[38;5;66;03m# type: ignore[misc]\u001b[39;00m\n\u001b[32m   1738\u001b[39m \u001b[38;5;28;01melse\u001b[39;00m:\n\u001b[32m-> \u001b[39m\u001b[32m1739\u001b[39m     \u001b[38;5;28;01mreturn\u001b[39;00m \u001b[38;5;28;43mself\u001b[39;49m\u001b[43m.\u001b[49m\u001b[43m_call_impl\u001b[49m\u001b[43m(\u001b[49m\u001b[43m*\u001b[49m\u001b[43margs\u001b[49m\u001b[43m,\u001b[49m\u001b[43m \u001b[49m\u001b[43m*\u001b[49m\u001b[43m*\u001b[49m\u001b[43mkwargs\u001b[49m\u001b[43m)\u001b[49m\n",
      "\u001b[36mFile \u001b[39m\u001b[32mc:\\Users\\Elena\\Documents\\elte\\sci\\emcomm\\Lib\\site-packages\\torch\\nn\\modules\\module.py:1750\u001b[39m, in \u001b[36mModule._call_impl\u001b[39m\u001b[34m(self, *args, **kwargs)\u001b[39m\n\u001b[32m   1745\u001b[39m \u001b[38;5;66;03m# If we don't have any hooks, we want to skip the rest of the logic in\u001b[39;00m\n\u001b[32m   1746\u001b[39m \u001b[38;5;66;03m# this function, and just call forward.\u001b[39;00m\n\u001b[32m   1747\u001b[39m \u001b[38;5;28;01mif\u001b[39;00m \u001b[38;5;129;01mnot\u001b[39;00m (\u001b[38;5;28mself\u001b[39m._backward_hooks \u001b[38;5;129;01mor\u001b[39;00m \u001b[38;5;28mself\u001b[39m._backward_pre_hooks \u001b[38;5;129;01mor\u001b[39;00m \u001b[38;5;28mself\u001b[39m._forward_hooks \u001b[38;5;129;01mor\u001b[39;00m \u001b[38;5;28mself\u001b[39m._forward_pre_hooks\n\u001b[32m   1748\u001b[39m         \u001b[38;5;129;01mor\u001b[39;00m _global_backward_pre_hooks \u001b[38;5;129;01mor\u001b[39;00m _global_backward_hooks\n\u001b[32m   1749\u001b[39m         \u001b[38;5;129;01mor\u001b[39;00m _global_forward_hooks \u001b[38;5;129;01mor\u001b[39;00m _global_forward_pre_hooks):\n\u001b[32m-> \u001b[39m\u001b[32m1750\u001b[39m     \u001b[38;5;28;01mreturn\u001b[39;00m \u001b[43mforward_call\u001b[49m\u001b[43m(\u001b[49m\u001b[43m*\u001b[49m\u001b[43margs\u001b[49m\u001b[43m,\u001b[49m\u001b[43m \u001b[49m\u001b[43m*\u001b[49m\u001b[43m*\u001b[49m\u001b[43mkwargs\u001b[49m\u001b[43m)\u001b[49m\n\u001b[32m   1752\u001b[39m result = \u001b[38;5;28;01mNone\u001b[39;00m\n\u001b[32m   1753\u001b[39m called_always_called_hooks = \u001b[38;5;28mset\u001b[39m()\n",
      "\u001b[36mFile \u001b[39m\u001b[32mc:\\Users\\Elena\\Documents\\elte\\sci\\ADND\\ADND_Assignment\\src\\decoder.py:52\u001b[39m, in \u001b[36mDecoder.forward\u001b[39m\u001b[34m(self, x, encoder_data)\u001b[39m\n\u001b[32m     51\u001b[39m \u001b[38;5;28;01mdef\u001b[39;00m\u001b[38;5;250m \u001b[39m\u001b[34mforward\u001b[39m(\u001b[38;5;28mself\u001b[39m, x, encoder_data):\n\u001b[32m---> \u001b[39m\u001b[32m52\u001b[39m     x = \u001b[38;5;28;43mself\u001b[39;49m\u001b[43m.\u001b[49m\u001b[43mdecoder_layer_1\u001b[49m\u001b[43m(\u001b[49m\u001b[43mx\u001b[49m\u001b[43m,\u001b[49m\u001b[43m \u001b[49m\u001b[43mencoder_data\u001b[49m\u001b[43m)\u001b[49m\n\u001b[32m     53\u001b[39m     x = \u001b[38;5;28mself\u001b[39m.decoder_layer_2(x, encoder_data)\n\u001b[32m     54\u001b[39m     x = \u001b[38;5;28mself\u001b[39m.decoder_layer_3(x, encoder_data)\n",
      "\u001b[36mFile \u001b[39m\u001b[32mc:\\Users\\Elena\\Documents\\elte\\sci\\emcomm\\Lib\\site-packages\\torch\\nn\\modules\\module.py:1739\u001b[39m, in \u001b[36mModule._wrapped_call_impl\u001b[39m\u001b[34m(self, *args, **kwargs)\u001b[39m\n\u001b[32m   1737\u001b[39m     \u001b[38;5;28;01mreturn\u001b[39;00m \u001b[38;5;28mself\u001b[39m._compiled_call_impl(*args, **kwargs)  \u001b[38;5;66;03m# type: ignore[misc]\u001b[39;00m\n\u001b[32m   1738\u001b[39m \u001b[38;5;28;01melse\u001b[39;00m:\n\u001b[32m-> \u001b[39m\u001b[32m1739\u001b[39m     \u001b[38;5;28;01mreturn\u001b[39;00m \u001b[38;5;28;43mself\u001b[39;49m\u001b[43m.\u001b[49m\u001b[43m_call_impl\u001b[49m\u001b[43m(\u001b[49m\u001b[43m*\u001b[49m\u001b[43margs\u001b[49m\u001b[43m,\u001b[49m\u001b[43m \u001b[49m\u001b[43m*\u001b[49m\u001b[43m*\u001b[49m\u001b[43mkwargs\u001b[49m\u001b[43m)\u001b[49m\n",
      "\u001b[36mFile \u001b[39m\u001b[32mc:\\Users\\Elena\\Documents\\elte\\sci\\emcomm\\Lib\\site-packages\\torch\\nn\\modules\\module.py:1750\u001b[39m, in \u001b[36mModule._call_impl\u001b[39m\u001b[34m(self, *args, **kwargs)\u001b[39m\n\u001b[32m   1745\u001b[39m \u001b[38;5;66;03m# If we don't have any hooks, we want to skip the rest of the logic in\u001b[39;00m\n\u001b[32m   1746\u001b[39m \u001b[38;5;66;03m# this function, and just call forward.\u001b[39;00m\n\u001b[32m   1747\u001b[39m \u001b[38;5;28;01mif\u001b[39;00m \u001b[38;5;129;01mnot\u001b[39;00m (\u001b[38;5;28mself\u001b[39m._backward_hooks \u001b[38;5;129;01mor\u001b[39;00m \u001b[38;5;28mself\u001b[39m._backward_pre_hooks \u001b[38;5;129;01mor\u001b[39;00m \u001b[38;5;28mself\u001b[39m._forward_hooks \u001b[38;5;129;01mor\u001b[39;00m \u001b[38;5;28mself\u001b[39m._forward_pre_hooks\n\u001b[32m   1748\u001b[39m         \u001b[38;5;129;01mor\u001b[39;00m _global_backward_pre_hooks \u001b[38;5;129;01mor\u001b[39;00m _global_backward_hooks\n\u001b[32m   1749\u001b[39m         \u001b[38;5;129;01mor\u001b[39;00m _global_forward_hooks \u001b[38;5;129;01mor\u001b[39;00m _global_forward_pre_hooks):\n\u001b[32m-> \u001b[39m\u001b[32m1750\u001b[39m     \u001b[38;5;28;01mreturn\u001b[39;00m \u001b[43mforward_call\u001b[49m\u001b[43m(\u001b[49m\u001b[43m*\u001b[49m\u001b[43margs\u001b[49m\u001b[43m,\u001b[49m\u001b[43m \u001b[49m\u001b[43m*\u001b[49m\u001b[43m*\u001b[49m\u001b[43mkwargs\u001b[49m\u001b[43m)\u001b[49m\n\u001b[32m   1752\u001b[39m result = \u001b[38;5;28;01mNone\u001b[39;00m\n\u001b[32m   1753\u001b[39m called_always_called_hooks = \u001b[38;5;28mset\u001b[39m()\n",
      "\u001b[36mFile \u001b[39m\u001b[32mc:\\Users\\Elena\\Documents\\elte\\sci\\ADND\\ADND_Assignment\\src\\decoder.py:30\u001b[39m, in \u001b[36mDecoderLayer.forward\u001b[39m\u001b[34m(self, x, encoder_data)\u001b[39m\n\u001b[32m     29\u001b[39m \u001b[38;5;28;01mdef\u001b[39;00m\u001b[38;5;250m \u001b[39m\u001b[34mforward\u001b[39m(\u001b[38;5;28mself\u001b[39m, x, encoder_data): \u001b[38;5;66;03m# TODO: add masking!! ACTUALLY NOT NEEDED\u001b[39;00m\n\u001b[32m---> \u001b[39m\u001b[32m30\u001b[39m     self_attn_output, _ = \u001b[38;5;28;43mself\u001b[39;49m\u001b[43m.\u001b[49m\u001b[43mself_attn\u001b[49m\u001b[43m(\u001b[49m\u001b[43mx\u001b[49m\u001b[43m,\u001b[49m\u001b[43m \u001b[49m\u001b[43mx\u001b[49m\u001b[43m,\u001b[49m\u001b[43m \u001b[49m\u001b[43mx\u001b[49m\u001b[43m)\u001b[49m\n\u001b[32m     31\u001b[39m     x = x + self_attn_output\n\u001b[32m     32\u001b[39m     x = \u001b[38;5;28mself\u001b[39m.norm1(x)\n",
      "\u001b[36mFile \u001b[39m\u001b[32mc:\\Users\\Elena\\Documents\\elte\\sci\\emcomm\\Lib\\site-packages\\torch\\nn\\modules\\module.py:1739\u001b[39m, in \u001b[36mModule._wrapped_call_impl\u001b[39m\u001b[34m(self, *args, **kwargs)\u001b[39m\n\u001b[32m   1737\u001b[39m     \u001b[38;5;28;01mreturn\u001b[39;00m \u001b[38;5;28mself\u001b[39m._compiled_call_impl(*args, **kwargs)  \u001b[38;5;66;03m# type: ignore[misc]\u001b[39;00m\n\u001b[32m   1738\u001b[39m \u001b[38;5;28;01melse\u001b[39;00m:\n\u001b[32m-> \u001b[39m\u001b[32m1739\u001b[39m     \u001b[38;5;28;01mreturn\u001b[39;00m \u001b[38;5;28;43mself\u001b[39;49m\u001b[43m.\u001b[49m\u001b[43m_call_impl\u001b[49m\u001b[43m(\u001b[49m\u001b[43m*\u001b[49m\u001b[43margs\u001b[49m\u001b[43m,\u001b[49m\u001b[43m \u001b[49m\u001b[43m*\u001b[49m\u001b[43m*\u001b[49m\u001b[43mkwargs\u001b[49m\u001b[43m)\u001b[49m\n",
      "\u001b[36mFile \u001b[39m\u001b[32mc:\\Users\\Elena\\Documents\\elte\\sci\\emcomm\\Lib\\site-packages\\torch\\nn\\modules\\module.py:1750\u001b[39m, in \u001b[36mModule._call_impl\u001b[39m\u001b[34m(self, *args, **kwargs)\u001b[39m\n\u001b[32m   1745\u001b[39m \u001b[38;5;66;03m# If we don't have any hooks, we want to skip the rest of the logic in\u001b[39;00m\n\u001b[32m   1746\u001b[39m \u001b[38;5;66;03m# this function, and just call forward.\u001b[39;00m\n\u001b[32m   1747\u001b[39m \u001b[38;5;28;01mif\u001b[39;00m \u001b[38;5;129;01mnot\u001b[39;00m (\u001b[38;5;28mself\u001b[39m._backward_hooks \u001b[38;5;129;01mor\u001b[39;00m \u001b[38;5;28mself\u001b[39m._backward_pre_hooks \u001b[38;5;129;01mor\u001b[39;00m \u001b[38;5;28mself\u001b[39m._forward_hooks \u001b[38;5;129;01mor\u001b[39;00m \u001b[38;5;28mself\u001b[39m._forward_pre_hooks\n\u001b[32m   1748\u001b[39m         \u001b[38;5;129;01mor\u001b[39;00m _global_backward_pre_hooks \u001b[38;5;129;01mor\u001b[39;00m _global_backward_hooks\n\u001b[32m   1749\u001b[39m         \u001b[38;5;129;01mor\u001b[39;00m _global_forward_hooks \u001b[38;5;129;01mor\u001b[39;00m _global_forward_pre_hooks):\n\u001b[32m-> \u001b[39m\u001b[32m1750\u001b[39m     \u001b[38;5;28;01mreturn\u001b[39;00m \u001b[43mforward_call\u001b[49m\u001b[43m(\u001b[49m\u001b[43m*\u001b[49m\u001b[43margs\u001b[49m\u001b[43m,\u001b[49m\u001b[43m \u001b[49m\u001b[43m*\u001b[49m\u001b[43m*\u001b[49m\u001b[43mkwargs\u001b[49m\u001b[43m)\u001b[49m\n\u001b[32m   1752\u001b[39m result = \u001b[38;5;28;01mNone\u001b[39;00m\n\u001b[32m   1753\u001b[39m called_always_called_hooks = \u001b[38;5;28mset\u001b[39m()\n",
      "\u001b[36mFile \u001b[39m\u001b[32mc:\\Users\\Elena\\Documents\\elte\\sci\\ADND\\ADND_Assignment\\src\\attention.py:35\u001b[39m, in \u001b[36mMultiHeadAttention.forward\u001b[39m\u001b[34m(self, Q, K, V, mask)\u001b[39m\n\u001b[32m     33\u001b[39m \u001b[38;5;28;01mdef\u001b[39;00m\u001b[38;5;250m \u001b[39m\u001b[34mforward\u001b[39m(\u001b[38;5;28mself\u001b[39m, Q, K, V, mask=\u001b[38;5;28;01mNone\u001b[39;00m):\n\u001b[32m     34\u001b[39m     Q_proj = \u001b[38;5;28mself\u001b[39m.weights_Q(Q)\n\u001b[32m---> \u001b[39m\u001b[32m35\u001b[39m     Q_reshaped = \u001b[43mQ_proj\u001b[49m\u001b[43m.\u001b[49m\u001b[43mview\u001b[49m\u001b[43m(\u001b[49m\u001b[38;5;28;43mself\u001b[39;49m\u001b[43m.\u001b[49m\u001b[43mbatch_size\u001b[49m\u001b[43m,\u001b[49m\u001b[43m \u001b[49m\u001b[38;5;28;43mself\u001b[39;49m\u001b[43m.\u001b[49m\u001b[43mseq_len\u001b[49m\u001b[43m,\u001b[49m\u001b[43m \u001b[49m\u001b[38;5;28;43mself\u001b[39;49m\u001b[43m.\u001b[49m\u001b[43mnum_heads\u001b[49m\u001b[43m,\u001b[49m\u001b[43m \u001b[49m\u001b[38;5;28;43mself\u001b[39;49m\u001b[43m.\u001b[49m\u001b[43md_k\u001b[49m\u001b[43m)\u001b[49m \n\u001b[32m     36\u001b[39m     Q = Q_reshaped.transpose(\u001b[32m1\u001b[39m, \u001b[32m2\u001b[39m) \u001b[38;5;66;03m# so head is 1st (batch_size is on 0 pos)  \u001b[39;00m\n\u001b[32m     38\u001b[39m     K = \u001b[38;5;28mself\u001b[39m.weights_K(K).reshape(\u001b[38;5;28mself\u001b[39m.batch_size, \u001b[38;5;28mself\u001b[39m.seq_len, \u001b[38;5;28mself\u001b[39m.num_heads, \u001b[38;5;28mself\u001b[39m.d_k).transpose(\u001b[32m1\u001b[39m, \u001b[32m2\u001b[39m)\n",
      "\u001b[31mRuntimeError\u001b[39m: shape '[4, 2048, 8, 64]' is invalid for input of size 61440"
     ]
    }
   ],
   "source": [
    "d_model = 512\n",
    "num_heads = 8\n",
    "d_k = d_v = 64\n",
    "batch_size = 4\n",
    "d_inner = 2048\n",
    "max_len = 30\n",
    "\n",
    "# Embed = Embedding(max_len, d_model)\n",
    "tokens = torch.randint(0, 32, (batch_size, max_len))  # give 32 random token indinces (batch of 4, sequence length 100)\n",
    "embedding = Embed(tokens)\n",
    "\n",
    "# PosEnc = PosEncoding(d_model, max_len)\n",
    "x = PosEnc(embedding)\n",
    "\n",
    "# print(embedding.shape)\n",
    "# # x = torch.randn(batch_size, seq_len, d_model)\n",
    "#     def __init__(self, embed_dim, n_heads,d_k, d_v, batch_size, seq_len):\n",
    "decoder = Decoder(d_model, num_heads, d_k, d_v, batch_size, d_inner, max_len)\n",
    "encoder_output = output\n",
    "dec_output = decoder(x, encoder_output)\n",
    "# output = encoder(input)\n",
    "\n",
    "# print(output.shape)  # Should be: (4, 10, 512)"
   ]
  }
 ],
 "metadata": {
  "kernelspec": {
   "display_name": "emcomm",
   "language": "python",
   "name": "python3"
  },
  "language_info": {
   "codemirror_mode": {
    "name": "ipython",
    "version": 3
   },
   "file_extension": ".py",
   "mimetype": "text/x-python",
   "name": "python",
   "nbconvert_exporter": "python",
   "pygments_lexer": "ipython3",
   "version": "3.11.9"
  }
 },
 "nbformat": 4,
 "nbformat_minor": 5
}
