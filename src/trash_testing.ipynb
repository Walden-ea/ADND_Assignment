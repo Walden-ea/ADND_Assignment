{
 "cells": [
  {
   "cell_type": "code",
   "execution_count": 5,
   "id": "c03ccee1",
   "metadata": {},
   "outputs": [],
   "source": [
    "import torch"
   ]
  },
  {
   "cell_type": "code",
   "execution_count": 6,
   "id": "f3fdfdaf",
   "metadata": {},
   "outputs": [
    {
     "name": "stdout",
     "output_type": "stream",
     "text": [
      "The autoreload extension is already loaded. To reload it, use:\n",
      "  %reload_ext autoreload\n"
     ]
    }
   ],
   "source": [
    "%load_ext autoreload\n",
    "%autoreload 2"
   ]
  },
  {
   "cell_type": "code",
   "execution_count": 7,
   "id": "a4e28b8c",
   "metadata": {},
   "outputs": [
    {
     "name": "stdout",
     "output_type": "stream",
     "text": [
      "2048\n",
      "torch.Size([4, 30, 512])\n",
      "4 30 8 64\n",
      "torch.Size([4, 30, 512])\n",
      "4 30 8 64\n",
      "torch.Size([4, 30, 512])\n",
      "4 30 8 64\n",
      "torch.Size([4, 30, 512])\n",
      "4 30 8 64\n",
      "torch.Size([4, 30, 512])\n",
      "4 30 8 64\n",
      "torch.Size([4, 30, 512])\n",
      "4 30 8 64\n",
      "torch.Size([4, 30, 512])\n",
      "torch.Size([4, 30, 512])\n",
      "4 2048 8 64\n"
     ]
    },
    {
     "ename": "RuntimeError",
     "evalue": "shape '[4, 2048, 8, 64]' is invalid for input of size 61440",
     "output_type": "error",
     "traceback": [
      "\u001b[31m---------------------------------------------------------------------------\u001b[39m",
      "\u001b[31mRuntimeError\u001b[39m                              Traceback (most recent call last)",
      "\u001b[36mCell\u001b[39m\u001b[36m \u001b[39m\u001b[32mIn[7]\u001b[39m\u001b[32m, line 19\u001b[39m\n\u001b[32m     16\u001b[39m tokens_encoding = torch.randint(\u001b[32m0\u001b[39m, vocab_size, (batch_size, seq_len))\n\u001b[32m     17\u001b[39m tokens_decoding = torch.randint(\u001b[32m0\u001b[39m, vocab_size, (batch_size, seq_len))\n\u001b[32m---> \u001b[39m\u001b[32m19\u001b[39m output = \u001b[43mtransf\u001b[49m\u001b[43m(\u001b[49m\u001b[43mtokens_encoding\u001b[49m\u001b[43m,\u001b[49m\u001b[43m \u001b[49m\u001b[43mtokens_decoding\u001b[49m\u001b[43m)\u001b[49m \n\u001b[32m     20\u001b[39m \u001b[38;5;66;03m# return logits for each token position in the sequence, across all vocabulary entries\u001b[39;00m\n\u001b[32m     22\u001b[39m \u001b[38;5;28;01massert\u001b[39;00m output.shape == (batch_size, seq_len, vocab_size), \\\n\u001b[32m     23\u001b[39m     \u001b[33mf\u001b[39m\u001b[33m\"\u001b[39m\u001b[33mExpected shape \u001b[39m\u001b[38;5;132;01m{\u001b[39;00m(batch_size,\u001b[38;5;250m \u001b[39mseq_len,\u001b[38;5;250m \u001b[39mvocab_size)\u001b[38;5;132;01m}\u001b[39;00m\u001b[33m, got \u001b[39m\u001b[38;5;132;01m{\u001b[39;00moutput.shape\u001b[38;5;132;01m}\u001b[39;00m\u001b[33m\"\u001b[39m\n",
      "\u001b[36mFile \u001b[39m\u001b[32mc:\\Users\\Elena\\Documents\\elte\\sci\\emcomm\\Lib\\site-packages\\torch\\nn\\modules\\module.py:1739\u001b[39m, in \u001b[36mModule._wrapped_call_impl\u001b[39m\u001b[34m(self, *args, **kwargs)\u001b[39m\n\u001b[32m   1737\u001b[39m     \u001b[38;5;28;01mreturn\u001b[39;00m \u001b[38;5;28mself\u001b[39m._compiled_call_impl(*args, **kwargs)  \u001b[38;5;66;03m# type: ignore[misc]\u001b[39;00m\n\u001b[32m   1738\u001b[39m \u001b[38;5;28;01melse\u001b[39;00m:\n\u001b[32m-> \u001b[39m\u001b[32m1739\u001b[39m     \u001b[38;5;28;01mreturn\u001b[39;00m \u001b[38;5;28;43mself\u001b[39;49m\u001b[43m.\u001b[49m\u001b[43m_call_impl\u001b[49m\u001b[43m(\u001b[49m\u001b[43m*\u001b[49m\u001b[43margs\u001b[49m\u001b[43m,\u001b[49m\u001b[43m \u001b[49m\u001b[43m*\u001b[49m\u001b[43m*\u001b[49m\u001b[43mkwargs\u001b[49m\u001b[43m)\u001b[49m\n",
      "\u001b[36mFile \u001b[39m\u001b[32mc:\\Users\\Elena\\Documents\\elte\\sci\\emcomm\\Lib\\site-packages\\torch\\nn\\modules\\module.py:1750\u001b[39m, in \u001b[36mModule._call_impl\u001b[39m\u001b[34m(self, *args, **kwargs)\u001b[39m\n\u001b[32m   1745\u001b[39m \u001b[38;5;66;03m# If we don't have any hooks, we want to skip the rest of the logic in\u001b[39;00m\n\u001b[32m   1746\u001b[39m \u001b[38;5;66;03m# this function, and just call forward.\u001b[39;00m\n\u001b[32m   1747\u001b[39m \u001b[38;5;28;01mif\u001b[39;00m \u001b[38;5;129;01mnot\u001b[39;00m (\u001b[38;5;28mself\u001b[39m._backward_hooks \u001b[38;5;129;01mor\u001b[39;00m \u001b[38;5;28mself\u001b[39m._backward_pre_hooks \u001b[38;5;129;01mor\u001b[39;00m \u001b[38;5;28mself\u001b[39m._forward_hooks \u001b[38;5;129;01mor\u001b[39;00m \u001b[38;5;28mself\u001b[39m._forward_pre_hooks\n\u001b[32m   1748\u001b[39m         \u001b[38;5;129;01mor\u001b[39;00m _global_backward_pre_hooks \u001b[38;5;129;01mor\u001b[39;00m _global_backward_hooks\n\u001b[32m   1749\u001b[39m         \u001b[38;5;129;01mor\u001b[39;00m _global_forward_hooks \u001b[38;5;129;01mor\u001b[39;00m _global_forward_pre_hooks):\n\u001b[32m-> \u001b[39m\u001b[32m1750\u001b[39m     \u001b[38;5;28;01mreturn\u001b[39;00m \u001b[43mforward_call\u001b[49m\u001b[43m(\u001b[49m\u001b[43m*\u001b[49m\u001b[43margs\u001b[49m\u001b[43m,\u001b[49m\u001b[43m \u001b[49m\u001b[43m*\u001b[49m\u001b[43m*\u001b[49m\u001b[43mkwargs\u001b[49m\u001b[43m)\u001b[49m\n\u001b[32m   1752\u001b[39m result = \u001b[38;5;28;01mNone\u001b[39;00m\n\u001b[32m   1753\u001b[39m called_always_called_hooks = \u001b[38;5;28mset\u001b[39m()\n",
      "\u001b[36mFile \u001b[39m\u001b[32mc:\\Users\\Elena\\Documents\\elte\\sci\\ADND\\ADND_Assignment\\src\\transformer.py:38\u001b[39m, in \u001b[36mTransformer.forward\u001b[39m\u001b[34m(self, token_idx_encoder, token_idx_decoder)\u001b[39m\n\u001b[32m     36\u001b[39m embedding = \u001b[38;5;28mself\u001b[39m.Embedding(token_idx_decoder)\n\u001b[32m     37\u001b[39m input_decoder = \u001b[38;5;28mself\u001b[39m.PosEnc(embedding)\n\u001b[32m---> \u001b[39m\u001b[32m38\u001b[39m output_decoder = \u001b[38;5;28;43mself\u001b[39;49m\u001b[43m.\u001b[49m\u001b[43mDecoder\u001b[49m\u001b[43m(\u001b[49m\u001b[43minput_decoder\u001b[49m\u001b[43m,\u001b[49m\u001b[43m \u001b[49m\u001b[43moutput_encoder\u001b[49m\u001b[43m,\u001b[49m\u001b[43m \u001b[49m\u001b[43mcombined_decoder_mask\u001b[49m\u001b[43m,\u001b[49m\u001b[43m \u001b[49m\u001b[43mencoder_mask\u001b[49m\u001b[43m)\u001b[49m\n\u001b[32m     40\u001b[39m logits = \u001b[38;5;28mself\u001b[39m.Output_layer(output_decoder)\n\u001b[32m     42\u001b[39m \u001b[38;5;28;01mreturn\u001b[39;00m logits\n",
      "\u001b[36mFile \u001b[39m\u001b[32mc:\\Users\\Elena\\Documents\\elte\\sci\\emcomm\\Lib\\site-packages\\torch\\nn\\modules\\module.py:1739\u001b[39m, in \u001b[36mModule._wrapped_call_impl\u001b[39m\u001b[34m(self, *args, **kwargs)\u001b[39m\n\u001b[32m   1737\u001b[39m     \u001b[38;5;28;01mreturn\u001b[39;00m \u001b[38;5;28mself\u001b[39m._compiled_call_impl(*args, **kwargs)  \u001b[38;5;66;03m# type: ignore[misc]\u001b[39;00m\n\u001b[32m   1738\u001b[39m \u001b[38;5;28;01melse\u001b[39;00m:\n\u001b[32m-> \u001b[39m\u001b[32m1739\u001b[39m     \u001b[38;5;28;01mreturn\u001b[39;00m \u001b[38;5;28;43mself\u001b[39;49m\u001b[43m.\u001b[49m\u001b[43m_call_impl\u001b[49m\u001b[43m(\u001b[49m\u001b[43m*\u001b[49m\u001b[43margs\u001b[49m\u001b[43m,\u001b[49m\u001b[43m \u001b[49m\u001b[43m*\u001b[49m\u001b[43m*\u001b[49m\u001b[43mkwargs\u001b[49m\u001b[43m)\u001b[49m\n",
      "\u001b[36mFile \u001b[39m\u001b[32mc:\\Users\\Elena\\Documents\\elte\\sci\\emcomm\\Lib\\site-packages\\torch\\nn\\modules\\module.py:1750\u001b[39m, in \u001b[36mModule._call_impl\u001b[39m\u001b[34m(self, *args, **kwargs)\u001b[39m\n\u001b[32m   1745\u001b[39m \u001b[38;5;66;03m# If we don't have any hooks, we want to skip the rest of the logic in\u001b[39;00m\n\u001b[32m   1746\u001b[39m \u001b[38;5;66;03m# this function, and just call forward.\u001b[39;00m\n\u001b[32m   1747\u001b[39m \u001b[38;5;28;01mif\u001b[39;00m \u001b[38;5;129;01mnot\u001b[39;00m (\u001b[38;5;28mself\u001b[39m._backward_hooks \u001b[38;5;129;01mor\u001b[39;00m \u001b[38;5;28mself\u001b[39m._backward_pre_hooks \u001b[38;5;129;01mor\u001b[39;00m \u001b[38;5;28mself\u001b[39m._forward_hooks \u001b[38;5;129;01mor\u001b[39;00m \u001b[38;5;28mself\u001b[39m._forward_pre_hooks\n\u001b[32m   1748\u001b[39m         \u001b[38;5;129;01mor\u001b[39;00m _global_backward_pre_hooks \u001b[38;5;129;01mor\u001b[39;00m _global_backward_hooks\n\u001b[32m   1749\u001b[39m         \u001b[38;5;129;01mor\u001b[39;00m _global_forward_hooks \u001b[38;5;129;01mor\u001b[39;00m _global_forward_pre_hooks):\n\u001b[32m-> \u001b[39m\u001b[32m1750\u001b[39m     \u001b[38;5;28;01mreturn\u001b[39;00m \u001b[43mforward_call\u001b[49m\u001b[43m(\u001b[49m\u001b[43m*\u001b[49m\u001b[43margs\u001b[49m\u001b[43m,\u001b[49m\u001b[43m \u001b[49m\u001b[43m*\u001b[49m\u001b[43m*\u001b[49m\u001b[43mkwargs\u001b[49m\u001b[43m)\u001b[49m\n\u001b[32m   1752\u001b[39m result = \u001b[38;5;28;01mNone\u001b[39;00m\n\u001b[32m   1753\u001b[39m called_always_called_hooks = \u001b[38;5;28mset\u001b[39m()\n",
      "\u001b[36mFile \u001b[39m\u001b[32mc:\\Users\\Elena\\Documents\\elte\\sci\\ADND\\ADND_Assignment\\src\\decoder.py:45\u001b[39m, in \u001b[36mDecoder.forward\u001b[39m\u001b[34m(self, x, encoder_data, decoder_mask, encoder_mask)\u001b[39m\n\u001b[32m     44\u001b[39m \u001b[38;5;28;01mdef\u001b[39;00m\u001b[38;5;250m \u001b[39m\u001b[34mforward\u001b[39m(\u001b[38;5;28mself\u001b[39m, x, encoder_data, decoder_mask = \u001b[38;5;28;01mNone\u001b[39;00m, encoder_mask = \u001b[38;5;28;01mNone\u001b[39;00m):\n\u001b[32m---> \u001b[39m\u001b[32m45\u001b[39m     x = \u001b[38;5;28;43mself\u001b[39;49m\u001b[43m.\u001b[49m\u001b[43mdecoder_layer_1\u001b[49m\u001b[43m(\u001b[49m\u001b[43mx\u001b[49m\u001b[43m,\u001b[49m\u001b[43m \u001b[49m\u001b[43mencoder_data\u001b[49m\u001b[43m,\u001b[49m\u001b[43m \u001b[49m\u001b[43mdecoder_mask\u001b[49m\u001b[43m,\u001b[49m\u001b[43m \u001b[49m\u001b[43mencoder_mask\u001b[49m\u001b[43m)\u001b[49m\n\u001b[32m     46\u001b[39m     x = \u001b[38;5;28mself\u001b[39m.decoder_layer_2(x, encoder_data, decoder_mask, encoder_mask)\n\u001b[32m     47\u001b[39m     x = \u001b[38;5;28mself\u001b[39m.decoder_layer_3(x, encoder_data, decoder_mask, encoder_mask)\n",
      "\u001b[36mFile \u001b[39m\u001b[32mc:\\Users\\Elena\\Documents\\elte\\sci\\emcomm\\Lib\\site-packages\\torch\\nn\\modules\\module.py:1739\u001b[39m, in \u001b[36mModule._wrapped_call_impl\u001b[39m\u001b[34m(self, *args, **kwargs)\u001b[39m\n\u001b[32m   1737\u001b[39m     \u001b[38;5;28;01mreturn\u001b[39;00m \u001b[38;5;28mself\u001b[39m._compiled_call_impl(*args, **kwargs)  \u001b[38;5;66;03m# type: ignore[misc]\u001b[39;00m\n\u001b[32m   1738\u001b[39m \u001b[38;5;28;01melse\u001b[39;00m:\n\u001b[32m-> \u001b[39m\u001b[32m1739\u001b[39m     \u001b[38;5;28;01mreturn\u001b[39;00m \u001b[38;5;28;43mself\u001b[39;49m\u001b[43m.\u001b[49m\u001b[43m_call_impl\u001b[49m\u001b[43m(\u001b[49m\u001b[43m*\u001b[49m\u001b[43margs\u001b[49m\u001b[43m,\u001b[49m\u001b[43m \u001b[49m\u001b[43m*\u001b[49m\u001b[43m*\u001b[49m\u001b[43mkwargs\u001b[49m\u001b[43m)\u001b[49m\n",
      "\u001b[36mFile \u001b[39m\u001b[32mc:\\Users\\Elena\\Documents\\elte\\sci\\emcomm\\Lib\\site-packages\\torch\\nn\\modules\\module.py:1750\u001b[39m, in \u001b[36mModule._call_impl\u001b[39m\u001b[34m(self, *args, **kwargs)\u001b[39m\n\u001b[32m   1745\u001b[39m \u001b[38;5;66;03m# If we don't have any hooks, we want to skip the rest of the logic in\u001b[39;00m\n\u001b[32m   1746\u001b[39m \u001b[38;5;66;03m# this function, and just call forward.\u001b[39;00m\n\u001b[32m   1747\u001b[39m \u001b[38;5;28;01mif\u001b[39;00m \u001b[38;5;129;01mnot\u001b[39;00m (\u001b[38;5;28mself\u001b[39m._backward_hooks \u001b[38;5;129;01mor\u001b[39;00m \u001b[38;5;28mself\u001b[39m._backward_pre_hooks \u001b[38;5;129;01mor\u001b[39;00m \u001b[38;5;28mself\u001b[39m._forward_hooks \u001b[38;5;129;01mor\u001b[39;00m \u001b[38;5;28mself\u001b[39m._forward_pre_hooks\n\u001b[32m   1748\u001b[39m         \u001b[38;5;129;01mor\u001b[39;00m _global_backward_pre_hooks \u001b[38;5;129;01mor\u001b[39;00m _global_backward_hooks\n\u001b[32m   1749\u001b[39m         \u001b[38;5;129;01mor\u001b[39;00m _global_forward_hooks \u001b[38;5;129;01mor\u001b[39;00m _global_forward_pre_hooks):\n\u001b[32m-> \u001b[39m\u001b[32m1750\u001b[39m     \u001b[38;5;28;01mreturn\u001b[39;00m \u001b[43mforward_call\u001b[49m\u001b[43m(\u001b[49m\u001b[43m*\u001b[49m\u001b[43margs\u001b[49m\u001b[43m,\u001b[49m\u001b[43m \u001b[49m\u001b[43m*\u001b[49m\u001b[43m*\u001b[49m\u001b[43mkwargs\u001b[49m\u001b[43m)\u001b[49m\n\u001b[32m   1752\u001b[39m result = \u001b[38;5;28;01mNone\u001b[39;00m\n\u001b[32m   1753\u001b[39m called_always_called_hooks = \u001b[38;5;28mset\u001b[39m()\n",
      "\u001b[36mFile \u001b[39m\u001b[32mc:\\Users\\Elena\\Documents\\elte\\sci\\ADND\\ADND_Assignment\\src\\decoder.py:21\u001b[39m, in \u001b[36mDecoderLayer.forward\u001b[39m\u001b[34m(self, x, encoder_data, decoder_mask, encoder_mask)\u001b[39m\n\u001b[32m     19\u001b[39m \u001b[38;5;28mprint\u001b[39m(x.shape)\n\u001b[32m     20\u001b[39m \u001b[38;5;66;03m# print(decoder_mask)\u001b[39;00m\n\u001b[32m---> \u001b[39m\u001b[32m21\u001b[39m self_attn_output = \u001b[38;5;28;43mself\u001b[39;49m\u001b[43m.\u001b[49m\u001b[43mself_attn\u001b[49m\u001b[43m(\u001b[49m\u001b[43mx\u001b[49m\u001b[43m,\u001b[49m\u001b[43m \u001b[49m\u001b[43mx\u001b[49m\u001b[43m,\u001b[49m\u001b[43m \u001b[49m\u001b[43mx\u001b[49m\u001b[43m,\u001b[49m\u001b[43m \u001b[49m\u001b[43mdecoder_mask\u001b[49m\u001b[43m)\u001b[49m\n\u001b[32m     22\u001b[39m x = x + self_attn_output\n\u001b[32m     23\u001b[39m x = \u001b[38;5;28mself\u001b[39m.norm1(x)\n",
      "\u001b[36mFile \u001b[39m\u001b[32mc:\\Users\\Elena\\Documents\\elte\\sci\\emcomm\\Lib\\site-packages\\torch\\nn\\modules\\module.py:1739\u001b[39m, in \u001b[36mModule._wrapped_call_impl\u001b[39m\u001b[34m(self, *args, **kwargs)\u001b[39m\n\u001b[32m   1737\u001b[39m     \u001b[38;5;28;01mreturn\u001b[39;00m \u001b[38;5;28mself\u001b[39m._compiled_call_impl(*args, **kwargs)  \u001b[38;5;66;03m# type: ignore[misc]\u001b[39;00m\n\u001b[32m   1738\u001b[39m \u001b[38;5;28;01melse\u001b[39;00m:\n\u001b[32m-> \u001b[39m\u001b[32m1739\u001b[39m     \u001b[38;5;28;01mreturn\u001b[39;00m \u001b[38;5;28;43mself\u001b[39;49m\u001b[43m.\u001b[49m\u001b[43m_call_impl\u001b[49m\u001b[43m(\u001b[49m\u001b[43m*\u001b[49m\u001b[43margs\u001b[49m\u001b[43m,\u001b[49m\u001b[43m \u001b[49m\u001b[43m*\u001b[49m\u001b[43m*\u001b[49m\u001b[43mkwargs\u001b[49m\u001b[43m)\u001b[49m\n",
      "\u001b[36mFile \u001b[39m\u001b[32mc:\\Users\\Elena\\Documents\\elte\\sci\\emcomm\\Lib\\site-packages\\torch\\nn\\modules\\module.py:1750\u001b[39m, in \u001b[36mModule._call_impl\u001b[39m\u001b[34m(self, *args, **kwargs)\u001b[39m\n\u001b[32m   1745\u001b[39m \u001b[38;5;66;03m# If we don't have any hooks, we want to skip the rest of the logic in\u001b[39;00m\n\u001b[32m   1746\u001b[39m \u001b[38;5;66;03m# this function, and just call forward.\u001b[39;00m\n\u001b[32m   1747\u001b[39m \u001b[38;5;28;01mif\u001b[39;00m \u001b[38;5;129;01mnot\u001b[39;00m (\u001b[38;5;28mself\u001b[39m._backward_hooks \u001b[38;5;129;01mor\u001b[39;00m \u001b[38;5;28mself\u001b[39m._backward_pre_hooks \u001b[38;5;129;01mor\u001b[39;00m \u001b[38;5;28mself\u001b[39m._forward_hooks \u001b[38;5;129;01mor\u001b[39;00m \u001b[38;5;28mself\u001b[39m._forward_pre_hooks\n\u001b[32m   1748\u001b[39m         \u001b[38;5;129;01mor\u001b[39;00m _global_backward_pre_hooks \u001b[38;5;129;01mor\u001b[39;00m _global_backward_hooks\n\u001b[32m   1749\u001b[39m         \u001b[38;5;129;01mor\u001b[39;00m _global_forward_hooks \u001b[38;5;129;01mor\u001b[39;00m _global_forward_pre_hooks):\n\u001b[32m-> \u001b[39m\u001b[32m1750\u001b[39m     \u001b[38;5;28;01mreturn\u001b[39;00m \u001b[43mforward_call\u001b[49m\u001b[43m(\u001b[49m\u001b[43m*\u001b[49m\u001b[43margs\u001b[49m\u001b[43m,\u001b[49m\u001b[43m \u001b[49m\u001b[43m*\u001b[49m\u001b[43m*\u001b[49m\u001b[43mkwargs\u001b[49m\u001b[43m)\u001b[49m\n\u001b[32m   1752\u001b[39m result = \u001b[38;5;28;01mNone\u001b[39;00m\n\u001b[32m   1753\u001b[39m called_always_called_hooks = \u001b[38;5;28mset\u001b[39m()\n",
      "\u001b[36mFile \u001b[39m\u001b[32mc:\\Users\\Elena\\Documents\\elte\\sci\\ADND\\ADND_Assignment\\src\\attention.py:42\u001b[39m, in \u001b[36mMultiHeadAttention.forward\u001b[39m\u001b[34m(self, Q, K, V, mask)\u001b[39m\n\u001b[32m     40\u001b[39m \u001b[38;5;28mprint\u001b[39m(Q_proj.shape)\n\u001b[32m     41\u001b[39m \u001b[38;5;28mprint\u001b[39m(\u001b[38;5;28mself\u001b[39m.batch_size, \u001b[38;5;28mself\u001b[39m.seq_len, \u001b[38;5;28mself\u001b[39m.num_heads, \u001b[38;5;28mself\u001b[39m.d_k)\n\u001b[32m---> \u001b[39m\u001b[32m42\u001b[39m Q_reshaped = \u001b[43mQ_proj\u001b[49m\u001b[43m.\u001b[49m\u001b[43mview\u001b[49m\u001b[43m(\u001b[49m\u001b[38;5;28;43mself\u001b[39;49m\u001b[43m.\u001b[49m\u001b[43mbatch_size\u001b[49m\u001b[43m,\u001b[49m\u001b[43m \u001b[49m\u001b[38;5;28;43mself\u001b[39;49m\u001b[43m.\u001b[49m\u001b[43mseq_len\u001b[49m\u001b[43m,\u001b[49m\u001b[43m \u001b[49m\u001b[38;5;28;43mself\u001b[39;49m\u001b[43m.\u001b[49m\u001b[43mnum_heads\u001b[49m\u001b[43m,\u001b[49m\u001b[43m \u001b[49m\u001b[38;5;28;43mself\u001b[39;49m\u001b[43m.\u001b[49m\u001b[43md_k\u001b[49m\u001b[43m)\u001b[49m \n\u001b[32m     43\u001b[39m Q = Q_reshaped.transpose(\u001b[32m1\u001b[39m, \u001b[32m2\u001b[39m) \u001b[38;5;66;03m# so head is 1st to compute attention per head\u001b[39;00m\n\u001b[32m     45\u001b[39m K = \u001b[38;5;28mself\u001b[39m.weights_K(K).reshape(\u001b[38;5;28mself\u001b[39m.batch_size, \u001b[38;5;28mself\u001b[39m.seq_len, \u001b[38;5;28mself\u001b[39m.num_heads, \u001b[38;5;28mself\u001b[39m.d_k).transpose(\u001b[32m1\u001b[39m, \u001b[32m2\u001b[39m)\n",
      "\u001b[31mRuntimeError\u001b[39m: shape '[4, 2048, 8, 64]' is invalid for input of size 61440"
     ]
    }
   ],
   "source": [
    "import torch\n",
    "import sys\n",
    "import os\n",
    "\n",
    "# Add the src directory to the path\n",
    "# sys.path.append(os.path.abspath(os.path.join(os.path.dirname(__file__), '..', 'src')))\n",
    "\n",
    "from transformer import Transformer\n",
    "\n",
    "vocab_size = 32\n",
    "batch_size = 4\n",
    "seq_len = 30\n",
    "\n",
    "transf = Transformer()\n",
    "# 32 random token indinces (batch of 4, sequence length 30)\n",
    "tokens_encoding = torch.randint(0, vocab_size, (batch_size, seq_len))\n",
    "tokens_decoding = torch.randint(0, vocab_size, (batch_size, seq_len))\n",
    "\n",
    "output = transf(tokens_encoding, tokens_decoding) \n",
    "# return logits for each token position in the sequence, across all vocabulary entries\n",
    "\n",
    "assert output.shape == (batch_size, seq_len, vocab_size), \\\n",
    "    f\"Expected shape {(batch_size, seq_len, vocab_size)}, got {output.shape}\"\n"
   ]
  },
  {
   "cell_type": "code",
   "execution_count": null,
   "id": "804661f6",
   "metadata": {},
   "outputs": [
    {
     "name": "stdout",
     "output_type": "stream",
     "text": [
      "torch.Size([4, 30, 512])\n",
      "4 30 8 64\n",
      "torch.Size([4, 30, 512])\n",
      "4 30 8 64\n",
      "torch.Size([4, 30, 512])\n",
      "4 30 8 64\n",
      "torch.Size([4, 30, 512])\n",
      "4 30 8 64\n",
      "torch.Size([4, 30, 512])\n",
      "4 30 8 64\n",
      "torch.Size([4, 30, 512])\n",
      "4 30 8 64\n"
     ]
    },
    {
     "data": {
      "text/plain": [
       "torch.Size([4, 30, 512])"
      ]
     },
     "execution_count": 4,
     "metadata": {},
     "output_type": "execute_result"
    }
   ],
   "source": [
    "from encoder import Encoder\n",
    "\n",
    "d_model = 512\n",
    "num_heads = 8\n",
    "d_k = d_v = 64\n",
    "batch_size = 4\n",
    "d_inner = 2048 \n",
    "max_len = 30   \n",
    "\n",
    "encoder = Encoder(d_model, num_heads, d_k, d_v, batch_size, d_inner, max_len)\n",
    "input = torch.randn(batch_size, max_len, d_model)\n",
    "output = encoder(input)\n",
    "\n",
    "output.shape"
   ]
  },
  {
   "cell_type": "code",
   "execution_count": 11,
   "id": "3a9895c1",
   "metadata": {},
   "outputs": [
    {
     "name": "stdout",
     "output_type": "stream",
     "text": [
      "30\n",
      "torch.Size([4, 30, 512])\n",
      "torch.Size([4, 30, 512])\n",
      "4 30 8 64\n",
      "torch.Size([4, 30, 512])\n",
      "4 30 8 64\n",
      "torch.Size([4, 30, 512])\n",
      "torch.Size([4, 30, 512])\n",
      "4 30 8 64\n",
      "torch.Size([4, 30, 512])\n",
      "4 30 8 64\n",
      "torch.Size([4, 30, 512])\n",
      "torch.Size([4, 30, 512])\n",
      "4 30 8 64\n",
      "torch.Size([4, 30, 512])\n",
      "4 30 8 64\n"
     ]
    }
   ],
   "source": [
    "import torch\n",
    "import sys\n",
    "import os\n",
    "\n",
    "from decoder import Decoder\n",
    "\n",
    "\n",
    "\n",
    "d_model = 512\n",
    "num_heads = 8\n",
    "d_k = d_v = 64\n",
    "batch_size = 4\n",
    "d_inner = 2048 \n",
    "max_len = 30   \n",
    "\n",
    "encoder_features = torch.randn(batch_size, max_len, d_model)\n",
    "# assert(True)\n",
    "# (self, embed_dim, n_heads, d_k, d_v, batch_size, d_inner, seq_len)\n",
    "decoder = Decoder(embed_dim = d_model, n_heads = num_heads, d_k = d_k, d_v = d_v,batch_size = batch_size, d_inner = d_inner,seq_len = max_len)\n",
    "decoder_input = torch.randn(batch_size, max_len, d_model)\n",
    "output = decoder(decoder_input, encoder_features)\n",
    "\n",
    "assert output.shape == (batch_size, max_len, d_model), \\\n",
    "    f\"Expected shape {(batch_size, max_len, d_model)}, got {output.shape}\"\n"
   ]
  },
  {
   "cell_type": "code",
   "execution_count": 9,
   "id": "548305f7",
   "metadata": {},
   "outputs": [
    {
     "name": "stdout",
     "output_type": "stream",
     "text": [
      "30\n",
      "torch.Size([4, 30, 512])\n",
      "torch.Size([4, 30, 512])\n",
      "4 30 8 64\n",
      "torch.Size([4, 30, 512])\n",
      "4 30 8 64\n",
      "torch.Size([4, 30, 512])\n",
      "torch.Size([4, 30, 512])\n",
      "4 30 8 64\n",
      "torch.Size([4, 30, 512])\n",
      "4 30 8 64\n",
      "torch.Size([4, 30, 512])\n",
      "torch.Size([4, 30, 512])\n",
      "4 30 8 64\n",
      "torch.Size([4, 30, 512])\n",
      "4 30 8 64\n"
     ]
    }
   ],
   "source": [
    "import torch\n",
    "import sys\n",
    "import os\n",
    "\n",
    "# Add the src directory to the path\n",
    "# sys.path.append(os.path.abspath(os.path.join(os.path.dirname(__file__), '..', 'src')))\n",
    "\n",
    "from decoder import Decoder\n",
    "\n",
    "\n",
    "d_model = 512\n",
    "num_heads = 8\n",
    "d_k = d_v = 64\n",
    "batch_size = 4\n",
    "d_inner = 2048 \n",
    "max_len = 30   \n",
    "max_len = 30\n",
    "vocab_size = 32\n",
    "\n",
    "# encoder_features = torch.zeros(batch_size, max_len, d_model, dtype=torch.float)\n",
    "# random_tensor = torch.randn(batch_size, max_len, d_model)\n",
    "encoder_features = torch.randn(batch_size, max_len, d_model)\n",
    "# encoder_features = output\n",
    "\n",
    "# assert(True)\n",
    "decoder = Decoder(d_model, num_heads, d_k, d_v, batch_size, d_inner, max_len)\n",
    "decoder_input = torch.randn(batch_size, max_len, d_model)\n",
    "\n",
    "output = decoder(decoder_input, encoder_features)\n",
    "\n",
    "assert output.shape == (batch_size, max_len, d_model), \\\n",
    "    f\"Expected shape {(batch_size, max_len, d_model)}, got {output.shape}\"\n"
   ]
  },
  {
   "cell_type": "code",
   "execution_count": null,
   "id": "989663e2",
   "metadata": {},
   "outputs": [],
   "source": [
    "from torch import nn"
   ]
  },
  {
   "cell_type": "code",
   "execution_count": null,
   "id": "4757e942",
   "metadata": {},
   "outputs": [],
   "source": [
    "from encoder import Encoder\n",
    "import torch\n",
    "import torch.nn as nn\n",
    "from attention import MultiHeadAttention\n",
    "from feed_forward import FFN\n",
    "from embedding import Embedding\n",
    "from pos_en import PosEncoding\n",
    "from transformer import Transformer"
   ]
  },
  {
   "cell_type": "code",
   "execution_count": null,
   "id": "f7c32c46",
   "metadata": {},
   "outputs": [],
   "source": [
    "# enc = Encoder(4,2,4,4,1,4)"
   ]
  },
  {
   "cell_type": "code",
   "execution_count": null,
   "id": "fc633aa4",
   "metadata": {},
   "outputs": [],
   "source": []
  },
  {
   "cell_type": "code",
   "execution_count": null,
   "id": "cc17973c",
   "metadata": {},
   "outputs": [],
   "source": [
    "# pe = PosEncoding(max_len=3, embedding_dim=4)\n",
    "\n",
    "# x = torch.zeros(1,4)\n",
    "\n",
    "# pe(x)"
   ]
  },
  {
   "cell_type": "code",
   "execution_count": null,
   "id": "98546ccb",
   "metadata": {},
   "outputs": [],
   "source": [
    "# y = torch.ones(1,4)\n",
    "\n",
    "# pe(y)"
   ]
  },
  {
   "cell_type": "code",
   "execution_count": null,
   "id": "85ce49f4",
   "metadata": {},
   "outputs": [],
   "source": [
    "# %pip install zeta"
   ]
  },
  {
   "cell_type": "code",
   "execution_count": null,
   "id": "4681316f",
   "metadata": {},
   "outputs": [
    {
     "ename": "IndexError",
     "evalue": "index out of range in self",
     "output_type": "error",
     "traceback": [
      "\u001b[31m---------------------------------------------------------------------------\u001b[39m",
      "\u001b[31mIndexError\u001b[39m                                Traceback (most recent call last)",
      "\u001b[36mCell\u001b[39m\u001b[36m \u001b[39m\u001b[32mIn[5]\u001b[39m\u001b[32m, line 10\u001b[39m\n\u001b[32m      8\u001b[39m Embed = Embedding(max_len, d_model)\n\u001b[32m      9\u001b[39m tokens = torch.randint(\u001b[32m0\u001b[39m, \u001b[32m32\u001b[39m, (batch_size, max_len))  \u001b[38;5;66;03m# give 32 random token indinces (batch of 4, sequence length 100)\u001b[39;00m\n\u001b[32m---> \u001b[39m\u001b[32m10\u001b[39m embedding = \u001b[43mEmbed\u001b[49m\u001b[43m(\u001b[49m\u001b[43mtokens\u001b[49m\u001b[43m)\u001b[49m\n\u001b[32m     12\u001b[39m PosEnc = PosEncoding(d_model, max_len)\n\u001b[32m     13\u001b[39m \u001b[38;5;28minput\u001b[39m = PosEnc(embedding)\n",
      "\u001b[36mFile \u001b[39m\u001b[32mc:\\Users\\Elena\\Documents\\elte\\sci\\emcomm\\Lib\\site-packages\\torch\\nn\\modules\\module.py:1739\u001b[39m, in \u001b[36mModule._wrapped_call_impl\u001b[39m\u001b[34m(self, *args, **kwargs)\u001b[39m\n\u001b[32m   1737\u001b[39m     \u001b[38;5;28;01mreturn\u001b[39;00m \u001b[38;5;28mself\u001b[39m._compiled_call_impl(*args, **kwargs)  \u001b[38;5;66;03m# type: ignore[misc]\u001b[39;00m\n\u001b[32m   1738\u001b[39m \u001b[38;5;28;01melse\u001b[39;00m:\n\u001b[32m-> \u001b[39m\u001b[32m1739\u001b[39m     \u001b[38;5;28;01mreturn\u001b[39;00m \u001b[38;5;28;43mself\u001b[39;49m\u001b[43m.\u001b[49m\u001b[43m_call_impl\u001b[49m\u001b[43m(\u001b[49m\u001b[43m*\u001b[49m\u001b[43margs\u001b[49m\u001b[43m,\u001b[49m\u001b[43m \u001b[49m\u001b[43m*\u001b[49m\u001b[43m*\u001b[49m\u001b[43mkwargs\u001b[49m\u001b[43m)\u001b[49m\n",
      "\u001b[36mFile \u001b[39m\u001b[32mc:\\Users\\Elena\\Documents\\elte\\sci\\emcomm\\Lib\\site-packages\\torch\\nn\\modules\\module.py:1750\u001b[39m, in \u001b[36mModule._call_impl\u001b[39m\u001b[34m(self, *args, **kwargs)\u001b[39m\n\u001b[32m   1745\u001b[39m \u001b[38;5;66;03m# If we don't have any hooks, we want to skip the rest of the logic in\u001b[39;00m\n\u001b[32m   1746\u001b[39m \u001b[38;5;66;03m# this function, and just call forward.\u001b[39;00m\n\u001b[32m   1747\u001b[39m \u001b[38;5;28;01mif\u001b[39;00m \u001b[38;5;129;01mnot\u001b[39;00m (\u001b[38;5;28mself\u001b[39m._backward_hooks \u001b[38;5;129;01mor\u001b[39;00m \u001b[38;5;28mself\u001b[39m._backward_pre_hooks \u001b[38;5;129;01mor\u001b[39;00m \u001b[38;5;28mself\u001b[39m._forward_hooks \u001b[38;5;129;01mor\u001b[39;00m \u001b[38;5;28mself\u001b[39m._forward_pre_hooks\n\u001b[32m   1748\u001b[39m         \u001b[38;5;129;01mor\u001b[39;00m _global_backward_pre_hooks \u001b[38;5;129;01mor\u001b[39;00m _global_backward_hooks\n\u001b[32m   1749\u001b[39m         \u001b[38;5;129;01mor\u001b[39;00m _global_forward_hooks \u001b[38;5;129;01mor\u001b[39;00m _global_forward_pre_hooks):\n\u001b[32m-> \u001b[39m\u001b[32m1750\u001b[39m     \u001b[38;5;28;01mreturn\u001b[39;00m \u001b[43mforward_call\u001b[49m\u001b[43m(\u001b[49m\u001b[43m*\u001b[49m\u001b[43margs\u001b[49m\u001b[43m,\u001b[49m\u001b[43m \u001b[49m\u001b[43m*\u001b[49m\u001b[43m*\u001b[49m\u001b[43mkwargs\u001b[49m\u001b[43m)\u001b[49m\n\u001b[32m   1752\u001b[39m result = \u001b[38;5;28;01mNone\u001b[39;00m\n\u001b[32m   1753\u001b[39m called_always_called_hooks = \u001b[38;5;28mset\u001b[39m()\n",
      "\u001b[36mFile \u001b[39m\u001b[32mc:\\Users\\Elena\\Documents\\elte\\sci\\ADND\\ADND_Assignment\\src\\embedding.py:11\u001b[39m, in \u001b[36mEmbedding.forward\u001b[39m\u001b[34m(self, token_indices)\u001b[39m\n\u001b[32m      9\u001b[39m \u001b[38;5;28;01mdef\u001b[39;00m\u001b[38;5;250m \u001b[39m\u001b[34mforward\u001b[39m(\u001b[38;5;28mself\u001b[39m, token_indices):\n\u001b[32m     10\u001b[39m     \u001b[38;5;66;03m# output: [batch_size, seq_len, d_model]\u001b[39;00m\n\u001b[32m---> \u001b[39m\u001b[32m11\u001b[39m     \u001b[38;5;28;01mreturn\u001b[39;00m \u001b[38;5;28;43mself\u001b[39;49m\u001b[43m.\u001b[49m\u001b[43membedding\u001b[49m\u001b[43m(\u001b[49m\u001b[43mtoken_indices\u001b[49m\u001b[43m)\u001b[49m\n",
      "\u001b[36mFile \u001b[39m\u001b[32mc:\\Users\\Elena\\Documents\\elte\\sci\\emcomm\\Lib\\site-packages\\torch\\nn\\modules\\module.py:1739\u001b[39m, in \u001b[36mModule._wrapped_call_impl\u001b[39m\u001b[34m(self, *args, **kwargs)\u001b[39m\n\u001b[32m   1737\u001b[39m     \u001b[38;5;28;01mreturn\u001b[39;00m \u001b[38;5;28mself\u001b[39m._compiled_call_impl(*args, **kwargs)  \u001b[38;5;66;03m# type: ignore[misc]\u001b[39;00m\n\u001b[32m   1738\u001b[39m \u001b[38;5;28;01melse\u001b[39;00m:\n\u001b[32m-> \u001b[39m\u001b[32m1739\u001b[39m     \u001b[38;5;28;01mreturn\u001b[39;00m \u001b[38;5;28;43mself\u001b[39;49m\u001b[43m.\u001b[49m\u001b[43m_call_impl\u001b[49m\u001b[43m(\u001b[49m\u001b[43m*\u001b[49m\u001b[43margs\u001b[49m\u001b[43m,\u001b[49m\u001b[43m \u001b[49m\u001b[43m*\u001b[49m\u001b[43m*\u001b[49m\u001b[43mkwargs\u001b[49m\u001b[43m)\u001b[49m\n",
      "\u001b[36mFile \u001b[39m\u001b[32mc:\\Users\\Elena\\Documents\\elte\\sci\\emcomm\\Lib\\site-packages\\torch\\nn\\modules\\module.py:1750\u001b[39m, in \u001b[36mModule._call_impl\u001b[39m\u001b[34m(self, *args, **kwargs)\u001b[39m\n\u001b[32m   1745\u001b[39m \u001b[38;5;66;03m# If we don't have any hooks, we want to skip the rest of the logic in\u001b[39;00m\n\u001b[32m   1746\u001b[39m \u001b[38;5;66;03m# this function, and just call forward.\u001b[39;00m\n\u001b[32m   1747\u001b[39m \u001b[38;5;28;01mif\u001b[39;00m \u001b[38;5;129;01mnot\u001b[39;00m (\u001b[38;5;28mself\u001b[39m._backward_hooks \u001b[38;5;129;01mor\u001b[39;00m \u001b[38;5;28mself\u001b[39m._backward_pre_hooks \u001b[38;5;129;01mor\u001b[39;00m \u001b[38;5;28mself\u001b[39m._forward_hooks \u001b[38;5;129;01mor\u001b[39;00m \u001b[38;5;28mself\u001b[39m._forward_pre_hooks\n\u001b[32m   1748\u001b[39m         \u001b[38;5;129;01mor\u001b[39;00m _global_backward_pre_hooks \u001b[38;5;129;01mor\u001b[39;00m _global_backward_hooks\n\u001b[32m   1749\u001b[39m         \u001b[38;5;129;01mor\u001b[39;00m _global_forward_hooks \u001b[38;5;129;01mor\u001b[39;00m _global_forward_pre_hooks):\n\u001b[32m-> \u001b[39m\u001b[32m1750\u001b[39m     \u001b[38;5;28;01mreturn\u001b[39;00m \u001b[43mforward_call\u001b[49m\u001b[43m(\u001b[49m\u001b[43m*\u001b[49m\u001b[43margs\u001b[49m\u001b[43m,\u001b[49m\u001b[43m \u001b[49m\u001b[43m*\u001b[49m\u001b[43m*\u001b[49m\u001b[43mkwargs\u001b[49m\u001b[43m)\u001b[49m\n\u001b[32m   1752\u001b[39m result = \u001b[38;5;28;01mNone\u001b[39;00m\n\u001b[32m   1753\u001b[39m called_always_called_hooks = \u001b[38;5;28mset\u001b[39m()\n",
      "\u001b[36mFile \u001b[39m\u001b[32mc:\\Users\\Elena\\Documents\\elte\\sci\\emcomm\\Lib\\site-packages\\torch\\nn\\modules\\sparse.py:190\u001b[39m, in \u001b[36mEmbedding.forward\u001b[39m\u001b[34m(self, input)\u001b[39m\n\u001b[32m    189\u001b[39m \u001b[38;5;28;01mdef\u001b[39;00m\u001b[38;5;250m \u001b[39m\u001b[34mforward\u001b[39m(\u001b[38;5;28mself\u001b[39m, \u001b[38;5;28minput\u001b[39m: Tensor) -> Tensor:\n\u001b[32m--> \u001b[39m\u001b[32m190\u001b[39m     \u001b[38;5;28;01mreturn\u001b[39;00m \u001b[43mF\u001b[49m\u001b[43m.\u001b[49m\u001b[43membedding\u001b[49m\u001b[43m(\u001b[49m\n\u001b[32m    191\u001b[39m \u001b[43m        \u001b[49m\u001b[38;5;28;43minput\u001b[39;49m\u001b[43m,\u001b[49m\n\u001b[32m    192\u001b[39m \u001b[43m        \u001b[49m\u001b[38;5;28;43mself\u001b[39;49m\u001b[43m.\u001b[49m\u001b[43mweight\u001b[49m\u001b[43m,\u001b[49m\n\u001b[32m    193\u001b[39m \u001b[43m        \u001b[49m\u001b[38;5;28;43mself\u001b[39;49m\u001b[43m.\u001b[49m\u001b[43mpadding_idx\u001b[49m\u001b[43m,\u001b[49m\n\u001b[32m    194\u001b[39m \u001b[43m        \u001b[49m\u001b[38;5;28;43mself\u001b[39;49m\u001b[43m.\u001b[49m\u001b[43mmax_norm\u001b[49m\u001b[43m,\u001b[49m\n\u001b[32m    195\u001b[39m \u001b[43m        \u001b[49m\u001b[38;5;28;43mself\u001b[39;49m\u001b[43m.\u001b[49m\u001b[43mnorm_type\u001b[49m\u001b[43m,\u001b[49m\n\u001b[32m    196\u001b[39m \u001b[43m        \u001b[49m\u001b[38;5;28;43mself\u001b[39;49m\u001b[43m.\u001b[49m\u001b[43mscale_grad_by_freq\u001b[49m\u001b[43m,\u001b[49m\n\u001b[32m    197\u001b[39m \u001b[43m        \u001b[49m\u001b[38;5;28;43mself\u001b[39;49m\u001b[43m.\u001b[49m\u001b[43msparse\u001b[49m\u001b[43m,\u001b[49m\n\u001b[32m    198\u001b[39m \u001b[43m    \u001b[49m\u001b[43m)\u001b[49m\n",
      "\u001b[36mFile \u001b[39m\u001b[32mc:\\Users\\Elena\\Documents\\elte\\sci\\emcomm\\Lib\\site-packages\\torch\\nn\\functional.py:2551\u001b[39m, in \u001b[36membedding\u001b[39m\u001b[34m(input, weight, padding_idx, max_norm, norm_type, scale_grad_by_freq, sparse)\u001b[39m\n\u001b[32m   2545\u001b[39m     \u001b[38;5;66;03m# Note [embedding_renorm set_grad_enabled]\u001b[39;00m\n\u001b[32m   2546\u001b[39m     \u001b[38;5;66;03m# XXX: equivalent to\u001b[39;00m\n\u001b[32m   2547\u001b[39m     \u001b[38;5;66;03m# with torch.no_grad():\u001b[39;00m\n\u001b[32m   2548\u001b[39m     \u001b[38;5;66;03m#   torch.embedding_renorm_\u001b[39;00m\n\u001b[32m   2549\u001b[39m     \u001b[38;5;66;03m# remove once script supports set_grad_enabled\u001b[39;00m\n\u001b[32m   2550\u001b[39m     _no_grad_embedding_renorm_(weight, \u001b[38;5;28minput\u001b[39m, max_norm, norm_type)\n\u001b[32m-> \u001b[39m\u001b[32m2551\u001b[39m \u001b[38;5;28;01mreturn\u001b[39;00m \u001b[43mtorch\u001b[49m\u001b[43m.\u001b[49m\u001b[43membedding\u001b[49m\u001b[43m(\u001b[49m\u001b[43mweight\u001b[49m\u001b[43m,\u001b[49m\u001b[43m \u001b[49m\u001b[38;5;28;43minput\u001b[39;49m\u001b[43m,\u001b[49m\u001b[43m \u001b[49m\u001b[43mpadding_idx\u001b[49m\u001b[43m,\u001b[49m\u001b[43m \u001b[49m\u001b[43mscale_grad_by_freq\u001b[49m\u001b[43m,\u001b[49m\u001b[43m \u001b[49m\u001b[43msparse\u001b[49m\u001b[43m)\u001b[49m\n",
      "\u001b[31mIndexError\u001b[39m: index out of range in self"
     ]
    }
   ],
   "source": [
    "d_model = 512\n",
    "num_heads = 8\n",
    "d_k = d_v = 64\n",
    "batch_size = 4\n",
    "d_inner = 2048\n",
    "max_len = 30\n",
    "\n",
    "Embed = Embedding(max_len, d_model)\n",
    "tokens = torch.randint(0, 32, (batch_size, max_len))  # give 32 random token indinces (batch of 4, sequence length 100)\n",
    "embedding = Embed(tokens)\n",
    "\n",
    "PosEnc = PosEncoding(d_model, max_len)\n",
    "input = PosEnc(embedding)\n",
    "\n",
    "print(embedding.shape)\n",
    "# x = torch.randn(batch_size, seq_len, d_model)\n",
    "\n",
    "encoder = Encoder(d_model, num_heads, d_k, d_v, batch_size, d_inner, max_len)\n",
    "\n",
    "output = encoder(input)\n",
    "\n",
    "print(output.shape)  # Should be: (batch, seq, inner dim)"
   ]
  },
  {
   "cell_type": "code",
   "execution_count": null,
   "id": "6e2054f1",
   "metadata": {},
   "outputs": [],
   "source": [
    "from decoder import Decoder"
   ]
  },
  {
   "cell_type": "code",
   "execution_count": null,
   "id": "f7fd5361",
   "metadata": {},
   "outputs": [
    {
     "name": "stdout",
     "output_type": "stream",
     "text": [
      "torch.Size([4, 30, 512])\n"
     ]
    }
   ],
   "source": [
    "d_model = 512\n",
    "num_heads = 8\n",
    "d_k = d_v = 64\n",
    "batch_size = 4\n",
    "d_inner = 2048\n",
    "max_len = 30\n",
    "\n",
    "# Embed = Embedding(max_len, d_model)\n",
    "tokens = torch.randint(0, 32, (batch_size, max_len))  # give 32 random token indinces (batch of 4, sequence length 100)\n",
    "embedding = Embed(tokens)\n",
    "\n",
    "# PosEnc = PosEncoding(d_model, max_len)\n",
    "x = PosEnc(embedding)\n",
    "\n",
    "# print(embedding.shape)\n",
    "# # x = torch.randn(batch_size, seq_len, d_model)\n",
    "#     def __init__(self, embed_dim, n_heads,d_k, d_v, batch_size, seq_len):\n",
    "\n",
    "print(x.shape)\n",
    "decoder = Decoder(d_model, num_heads, d_k, d_v, batch_size,max_len, d_inner)\n"
   ]
  },
  {
   "cell_type": "code",
   "execution_count": null,
   "id": "b78b6e01",
   "metadata": {},
   "outputs": [
    {
     "name": "stdout",
     "output_type": "stream",
     "text": [
      "torch.Size([4, 30, 512])\n"
     ]
    }
   ],
   "source": [
    "encoder_output = output\n",
    "dec_output = decoder(x, encoder_output)\n",
    "\n",
    "\n",
    "# output = encoder(input)\n",
    "\n",
    "print(dec_output.shape)  # Should be: (4, 10, 512)"
   ]
  },
  {
   "cell_type": "code",
   "execution_count": null,
   "id": "9f3bd82f",
   "metadata": {},
   "outputs": [
    {
     "ename": "RuntimeError",
     "evalue": "The size of tensor a (2) must match the size of tensor b (5) at non-singleton dimension 1",
     "output_type": "error",
     "traceback": [
      "\u001b[31m---------------------------------------------------------------------------\u001b[39m",
      "\u001b[31mRuntimeError\u001b[39m                              Traceback (most recent call last)",
      "\u001b[36mCell\u001b[39m\u001b[36m \u001b[39m\u001b[32mIn[6]\u001b[39m\u001b[32m, line 14\u001b[39m\n\u001b[32m     11\u001b[39m tokens_decoding = torch.randint(\u001b[32m0\u001b[39m, vocab_size, (batch_size, \u001b[32m2\u001b[39m))\n\u001b[32m     13\u001b[39m \u001b[38;5;28;01mwith\u001b[39;00m torch.no_grad():\n\u001b[32m---> \u001b[39m\u001b[32m14\u001b[39m     logits = \u001b[43mtransformer\u001b[49m\u001b[43m(\u001b[49m\u001b[43mtokens_encoding\u001b[49m\u001b[43m,\u001b[49m\u001b[43m \u001b[49m\u001b[43mtokens_decoding\u001b[49m\u001b[43m)\u001b[49m\n\u001b[32m     15\u001b[39m     probs = F.softmax(logits, dim=-\u001b[32m1\u001b[39m)\n\u001b[32m     16\u001b[39m     predicted = torch.argmax(probs, dim=-\u001b[32m1\u001b[39m)  \u001b[38;5;66;03m# shape: [batch_size, seq_len]\u001b[39;00m\n",
      "\u001b[36mFile \u001b[39m\u001b[32mc:\\Users\\Elena\\Documents\\elte\\sci\\emcomm\\Lib\\site-packages\\torch\\nn\\modules\\module.py:1739\u001b[39m, in \u001b[36mModule._wrapped_call_impl\u001b[39m\u001b[34m(self, *args, **kwargs)\u001b[39m\n\u001b[32m   1737\u001b[39m     \u001b[38;5;28;01mreturn\u001b[39;00m \u001b[38;5;28mself\u001b[39m._compiled_call_impl(*args, **kwargs)  \u001b[38;5;66;03m# type: ignore[misc]\u001b[39;00m\n\u001b[32m   1738\u001b[39m \u001b[38;5;28;01melse\u001b[39;00m:\n\u001b[32m-> \u001b[39m\u001b[32m1739\u001b[39m     \u001b[38;5;28;01mreturn\u001b[39;00m \u001b[38;5;28;43mself\u001b[39;49m\u001b[43m.\u001b[49m\u001b[43m_call_impl\u001b[49m\u001b[43m(\u001b[49m\u001b[43m*\u001b[49m\u001b[43margs\u001b[49m\u001b[43m,\u001b[49m\u001b[43m \u001b[49m\u001b[43m*\u001b[49m\u001b[43m*\u001b[49m\u001b[43mkwargs\u001b[49m\u001b[43m)\u001b[49m\n",
      "\u001b[36mFile \u001b[39m\u001b[32mc:\\Users\\Elena\\Documents\\elte\\sci\\emcomm\\Lib\\site-packages\\torch\\nn\\modules\\module.py:1750\u001b[39m, in \u001b[36mModule._call_impl\u001b[39m\u001b[34m(self, *args, **kwargs)\u001b[39m\n\u001b[32m   1745\u001b[39m \u001b[38;5;66;03m# If we don't have any hooks, we want to skip the rest of the logic in\u001b[39;00m\n\u001b[32m   1746\u001b[39m \u001b[38;5;66;03m# this function, and just call forward.\u001b[39;00m\n\u001b[32m   1747\u001b[39m \u001b[38;5;28;01mif\u001b[39;00m \u001b[38;5;129;01mnot\u001b[39;00m (\u001b[38;5;28mself\u001b[39m._backward_hooks \u001b[38;5;129;01mor\u001b[39;00m \u001b[38;5;28mself\u001b[39m._backward_pre_hooks \u001b[38;5;129;01mor\u001b[39;00m \u001b[38;5;28mself\u001b[39m._forward_hooks \u001b[38;5;129;01mor\u001b[39;00m \u001b[38;5;28mself\u001b[39m._forward_pre_hooks\n\u001b[32m   1748\u001b[39m         \u001b[38;5;129;01mor\u001b[39;00m _global_backward_pre_hooks \u001b[38;5;129;01mor\u001b[39;00m _global_backward_hooks\n\u001b[32m   1749\u001b[39m         \u001b[38;5;129;01mor\u001b[39;00m _global_forward_hooks \u001b[38;5;129;01mor\u001b[39;00m _global_forward_pre_hooks):\n\u001b[32m-> \u001b[39m\u001b[32m1750\u001b[39m     \u001b[38;5;28;01mreturn\u001b[39;00m \u001b[43mforward_call\u001b[49m\u001b[43m(\u001b[49m\u001b[43m*\u001b[49m\u001b[43margs\u001b[49m\u001b[43m,\u001b[49m\u001b[43m \u001b[49m\u001b[43m*\u001b[49m\u001b[43m*\u001b[49m\u001b[43mkwargs\u001b[49m\u001b[43m)\u001b[49m\n\u001b[32m   1752\u001b[39m result = \u001b[38;5;28;01mNone\u001b[39;00m\n\u001b[32m   1753\u001b[39m called_always_called_hooks = \u001b[38;5;28mset\u001b[39m()\n",
      "\u001b[36mFile \u001b[39m\u001b[32mc:\\Users\\Elena\\Documents\\elte\\sci\\ADND\\ADND_Assignment\\src\\transformer.py:37\u001b[39m, in \u001b[36mTransformer.forward\u001b[39m\u001b[34m(self, token_idx_encoder, token_idx_decoder)\u001b[39m\n\u001b[32m     34\u001b[39m output_encoder = \u001b[38;5;28mself\u001b[39m.Encoder(input_encoder, encoder_mask)\n\u001b[32m     36\u001b[39m embedding = \u001b[38;5;28mself\u001b[39m.Embedding(token_idx_decoder)\n\u001b[32m---> \u001b[39m\u001b[32m37\u001b[39m input_decoder = \u001b[38;5;28;43mself\u001b[39;49m\u001b[43m.\u001b[49m\u001b[43mPosEnc\u001b[49m\u001b[43m(\u001b[49m\u001b[43membedding\u001b[49m\u001b[43m)\u001b[49m\n\u001b[32m     38\u001b[39m output_decoder = \u001b[38;5;28mself\u001b[39m.Decoder(input_decoder, output_encoder, combined_decoder_mask, encoder_mask)\n\u001b[32m     40\u001b[39m logits = \u001b[38;5;28mself\u001b[39m.Output_layer(output_decoder)\n",
      "\u001b[36mFile \u001b[39m\u001b[32mc:\\Users\\Elena\\Documents\\elte\\sci\\emcomm\\Lib\\site-packages\\torch\\nn\\modules\\module.py:1739\u001b[39m, in \u001b[36mModule._wrapped_call_impl\u001b[39m\u001b[34m(self, *args, **kwargs)\u001b[39m\n\u001b[32m   1737\u001b[39m     \u001b[38;5;28;01mreturn\u001b[39;00m \u001b[38;5;28mself\u001b[39m._compiled_call_impl(*args, **kwargs)  \u001b[38;5;66;03m# type: ignore[misc]\u001b[39;00m\n\u001b[32m   1738\u001b[39m \u001b[38;5;28;01melse\u001b[39;00m:\n\u001b[32m-> \u001b[39m\u001b[32m1739\u001b[39m     \u001b[38;5;28;01mreturn\u001b[39;00m \u001b[38;5;28;43mself\u001b[39;49m\u001b[43m.\u001b[49m\u001b[43m_call_impl\u001b[49m\u001b[43m(\u001b[49m\u001b[43m*\u001b[49m\u001b[43margs\u001b[49m\u001b[43m,\u001b[49m\u001b[43m \u001b[49m\u001b[43m*\u001b[49m\u001b[43m*\u001b[49m\u001b[43mkwargs\u001b[49m\u001b[43m)\u001b[49m\n",
      "\u001b[36mFile \u001b[39m\u001b[32mc:\\Users\\Elena\\Documents\\elte\\sci\\emcomm\\Lib\\site-packages\\torch\\nn\\modules\\module.py:1750\u001b[39m, in \u001b[36mModule._call_impl\u001b[39m\u001b[34m(self, *args, **kwargs)\u001b[39m\n\u001b[32m   1745\u001b[39m \u001b[38;5;66;03m# If we don't have any hooks, we want to skip the rest of the logic in\u001b[39;00m\n\u001b[32m   1746\u001b[39m \u001b[38;5;66;03m# this function, and just call forward.\u001b[39;00m\n\u001b[32m   1747\u001b[39m \u001b[38;5;28;01mif\u001b[39;00m \u001b[38;5;129;01mnot\u001b[39;00m (\u001b[38;5;28mself\u001b[39m._backward_hooks \u001b[38;5;129;01mor\u001b[39;00m \u001b[38;5;28mself\u001b[39m._backward_pre_hooks \u001b[38;5;129;01mor\u001b[39;00m \u001b[38;5;28mself\u001b[39m._forward_hooks \u001b[38;5;129;01mor\u001b[39;00m \u001b[38;5;28mself\u001b[39m._forward_pre_hooks\n\u001b[32m   1748\u001b[39m         \u001b[38;5;129;01mor\u001b[39;00m _global_backward_pre_hooks \u001b[38;5;129;01mor\u001b[39;00m _global_backward_hooks\n\u001b[32m   1749\u001b[39m         \u001b[38;5;129;01mor\u001b[39;00m _global_forward_hooks \u001b[38;5;129;01mor\u001b[39;00m _global_forward_pre_hooks):\n\u001b[32m-> \u001b[39m\u001b[32m1750\u001b[39m     \u001b[38;5;28;01mreturn\u001b[39;00m \u001b[43mforward_call\u001b[49m\u001b[43m(\u001b[49m\u001b[43m*\u001b[49m\u001b[43margs\u001b[49m\u001b[43m,\u001b[49m\u001b[43m \u001b[49m\u001b[43m*\u001b[49m\u001b[43m*\u001b[49m\u001b[43mkwargs\u001b[49m\u001b[43m)\u001b[49m\n\u001b[32m   1752\u001b[39m result = \u001b[38;5;28;01mNone\u001b[39;00m\n\u001b[32m   1753\u001b[39m called_always_called_hooks = \u001b[38;5;28mset\u001b[39m()\n",
      "\u001b[36mFile \u001b[39m\u001b[32mc:\\Users\\Elena\\Documents\\elte\\sci\\ADND\\ADND_Assignment\\src\\pos_en.py:34\u001b[39m, in \u001b[36mPosEncoding.forward\u001b[39m\u001b[34m(self, x)\u001b[39m\n\u001b[32m     31\u001b[39m pos_enc = \u001b[38;5;28mself\u001b[39m.encoding[:, :x.shape[\u001b[32m2\u001b[39m]].unsqueeze(\u001b[32m0\u001b[39m).expand(batch_size, -\u001b[32m1\u001b[39m, -\u001b[32m1\u001b[39m) \u001b[38;5;66;03m# TODO: check it works\u001b[39;00m\n\u001b[32m     32\u001b[39m \u001b[38;5;66;03m# print(pos_enc.shape)\u001b[39;00m\n\u001b[32m     33\u001b[39m \u001b[38;5;66;03m# return x + self.encoding[:, :x.shape[2]]\u001b[39;00m\n\u001b[32m---> \u001b[39m\u001b[32m34\u001b[39m \u001b[38;5;28;01mreturn\u001b[39;00m \u001b[43mx\u001b[49m\u001b[43m \u001b[49m\u001b[43m+\u001b[49m\u001b[43m \u001b[49m\u001b[43mpos_enc\u001b[49m\n",
      "\u001b[31mRuntimeError\u001b[39m: The size of tensor a (2) must match the size of tensor b (5) at non-singleton dimension 1"
     ]
    }
   ],
   "source": [
    "import torch.nn.functional as F\n",
    "max_len = 5\n",
    "\n",
    "\n",
    "batch_size = 4\n",
    "\n",
    "vocab_size = 32\n",
    "transformer = Transformer(max_len=max_len, batch_size=batch_size, vocab_size=vocab_size)\n",
    "# give 32 random token indinces (batch of 4, sequence length 30)\n",
    "tokens_encoding = torch.randint(0, vocab_size, (batch_size, max_len))\n",
    "tokens_decoding = torch.randint(0, vocab_size, (batch_size, 2))\n",
    "\n",
    "with torch.no_grad():\n",
    "    logits = transformer(tokens_encoding, tokens_decoding)\n",
    "    probs = F.softmax(logits, dim=-1)\n",
    "    predicted = torch.argmax(probs, dim=-1)  # shape: [batch_size, seq_len]\n",
    "\n",
    "    print(f\"Predicted token indices: {predicted}\")\n"
   ]
  }
 ],
 "metadata": {
  "kernelspec": {
   "display_name": "emcomm",
   "language": "python",
   "name": "python3"
  },
  "language_info": {
   "codemirror_mode": {
    "name": "ipython",
    "version": 3
   },
   "file_extension": ".py",
   "mimetype": "text/x-python",
   "name": "python",
   "nbconvert_exporter": "python",
   "pygments_lexer": "ipython3",
   "version": "3.11.9"
  }
 },
 "nbformat": 4,
 "nbformat_minor": 5
}
