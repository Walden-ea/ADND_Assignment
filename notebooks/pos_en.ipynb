{
 "cells": [
  {
   "cell_type": "code",
   "execution_count": 1,
   "id": "c03ccee1",
   "metadata": {},
   "outputs": [],
   "source": [
    "import torch"
   ]
  },
  {
   "cell_type": "code",
   "execution_count": 2,
   "id": "989663e2",
   "metadata": {},
   "outputs": [],
   "source": [
    "from torch import nn"
   ]
  },
  {
   "cell_type": "code",
   "execution_count": null,
   "id": "4757e942",
   "metadata": {},
   "outputs": [],
   "source": []
  },
  {
   "cell_type": "code",
   "execution_count": 67,
   "id": "f7c32c46",
   "metadata": {},
   "outputs": [],
   "source": [
    "class PosEncoding(nn.Module):\n",
    "    def __init__(self, embedding_dim, max_len):\n",
    "        super(PosEncoding, self).__init__()\n",
    "        self.pos_enc = torch.zeros(max_len, embedding_dim)\n",
    "\n",
    "        i_s_divd = torch.arange(0, 2 * embedding_dim, 2) / embedding_dim\n",
    "        # print(i_s_divd) # OK\n",
    "        powers = torch.vstack([i_s_divd] * max_len)\n",
    "        # print(powers) # OK\n",
    "        divisors = torch.pow(10_000, powers)\n",
    "        # print(divisors) # OK\n",
    "        positions = torch.arange(max_len)\n",
    "        # print(positions) # OK\n",
    "        positions_mtrx = torch.vstack([positions]*embedding_dim).mT \n",
    "        # print(positions_mtrx)\n",
    "        # self.encoding = positions_mtrx / divisors\n",
    "\n",
    "        self.encoding = torch.zeros(max_len, embedding_dim)\n",
    "        self.encoding[:,::2] = torch.sin(positions_mtrx / divisors)[:,::2]\n",
    "        self.encoding[:,1::2] = torch.cos(positions_mtrx / divisors)[:,1::2].unsqueeze(0)\n",
    "        print(self.encoding)\n",
    "        \n",
    "    def forward(self, x):\n",
    "        return x + self.encoding[:, :x.shape[0]]\n",
    "        \n",
    "\n"
   ]
  },
  {
   "cell_type": "code",
   "execution_count": 69,
   "id": "cc17973c",
   "metadata": {},
   "outputs": [
    {
     "name": "stdout",
     "output_type": "stream",
     "text": [
      "tensor([[0.0000e+00, 1.0000e+00, 0.0000e+00, 1.0000e+00],\n",
      "        [8.4147e-01, 9.9995e-01, 1.0000e-04, 1.0000e+00],\n",
      "        [9.0930e-01, 9.9980e-01, 2.0000e-04, 1.0000e+00]])\n"
     ]
    },
    {
     "data": {
      "text/plain": [
       "tensor([[0.0000, 0.0000, 0.0000, 0.0000],\n",
       "        [0.8415, 0.8415, 0.8415, 0.8415],\n",
       "        [0.9093, 0.9093, 0.9093, 0.9093]])"
      ]
     },
     "execution_count": 69,
     "metadata": {},
     "output_type": "execute_result"
    }
   ],
   "source": [
    "pe = PosEncoding(max_len=3, embedding_dim=4)\n",
    "\n",
    "x = torch.zeros(1,4)\n",
    "\n",
    "pe(x)"
   ]
  },
  {
   "cell_type": "code",
   "execution_count": 70,
   "id": "98546ccb",
   "metadata": {},
   "outputs": [
    {
     "data": {
      "text/plain": [
       "tensor([[1.0000, 1.0000, 1.0000, 1.0000],\n",
       "        [1.8415, 1.8415, 1.8415, 1.8415],\n",
       "        [1.9093, 1.9093, 1.9093, 1.9093]])"
      ]
     },
     "execution_count": 70,
     "metadata": {},
     "output_type": "execute_result"
    }
   ],
   "source": [
    "y = torch.ones(1,4)\n",
    "\n",
    "pe(y)"
   ]
  },
  {
   "cell_type": "code",
   "execution_count": null,
   "id": "85ce49f4",
   "metadata": {},
   "outputs": [
    {
     "name": "stdout",
     "output_type": "stream",
     "text": [
      "Note: you may need to restart the kernel to use updated packages.\n"
     ]
    },
    {
     "name": "stderr",
     "output_type": "stream",
     "text": [
      "ERROR: Could not find a version that satisfies the requirement zeta (from versions: 0.7b1-py2.6.egg)\n",
      "ERROR: No matching distribution found for zeta\n",
      "\n",
      "[notice] A new release of pip is available: 24.0 -> 25.1\n",
      "[notice] To update, run: python.exe -m pip install --upgrade pip\n"
     ]
    }
   ],
   "source": [
    "# %pip install zeta"
   ]
  },
  {
   "cell_type": "code",
   "execution_count": null,
   "id": "4681316f",
   "metadata": {},
   "outputs": [],
   "source": []
  }
 ],
 "metadata": {
  "kernelspec": {
   "display_name": "emcomm",
   "language": "python",
   "name": "python3"
  },
  "language_info": {
   "codemirror_mode": {
    "name": "ipython",
    "version": 3
   },
   "file_extension": ".py",
   "mimetype": "text/x-python",
   "name": "python",
   "nbconvert_exporter": "python",
   "pygments_lexer": "ipython3",
   "version": "3.11.9"
  }
 },
 "nbformat": 4,
 "nbformat_minor": 5
}
