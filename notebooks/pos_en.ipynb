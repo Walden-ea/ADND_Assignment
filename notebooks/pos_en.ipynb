{
 "cells": [
  {
   "cell_type": "code",
   "execution_count": 1,
   "id": "c03ccee1",
   "metadata": {},
   "outputs": [],
   "source": [
    "import torch"
   ]
  },
  {
   "cell_type": "code",
   "execution_count": 2,
   "id": "f3fdfdaf",
   "metadata": {},
   "outputs": [],
   "source": [
    "%load_ext autoreload\n",
    "%autoreload 2"
   ]
  },
  {
   "cell_type": "code",
   "execution_count": 3,
   "id": "989663e2",
   "metadata": {},
   "outputs": [],
   "source": [
    "from torch import nn"
   ]
  },
  {
   "cell_type": "code",
   "execution_count": 5,
   "id": "4757e942",
   "metadata": {},
   "outputs": [],
   "source": [
    "from encoder import Encoder\n",
    "import torch\n",
    "import torch.nn as nn\n",
    "from attention import MultiHeadAttention\n",
    "from feed_forward import FFN\n",
    "from embedding import Embedding\n",
    "from pos_en import PosEncoding"
   ]
  },
  {
   "cell_type": "code",
   "execution_count": null,
   "id": "f7c32c46",
   "metadata": {},
   "outputs": [],
   "source": [
    "# enc = Encoder(4,2,4,4,1,4)"
   ]
  },
  {
   "cell_type": "code",
   "execution_count": 6,
   "id": "fc633aa4",
   "metadata": {},
   "outputs": [
    {
     "name": "stdout",
     "output_type": "stream",
     "text": [
      "tensor([[ 0.0000e+00,  1.0000e+00,  0.0000e+00,  ...,  1.0000e+00,\n",
      "          0.0000e+00,  1.0000e+00],\n",
      "        [ 8.4147e-01,  5.6969e-01,  8.0196e-01,  ...,  1.0000e+00,\n",
      "          1.0746e-08,  1.0000e+00],\n",
      "        [ 9.0930e-01, -3.5090e-01,  9.5814e-01,  ...,  1.0000e+00,\n",
      "          2.1492e-08,  1.0000e+00],\n",
      "        ...,\n",
      "        [ 9.5638e-01,  6.1128e-01, -7.2968e-03,  ...,  1.0000e+00,\n",
      "          2.9014e-07,  1.0000e+00],\n",
      "        [ 2.7091e-01, -3.0219e-01,  7.9758e-01,  ...,  1.0000e+00,\n",
      "          3.0089e-07,  1.0000e+00],\n",
      "        [-6.6363e-01, -9.5559e-01,  9.6021e-01,  ...,  1.0000e+00,\n",
      "          3.1164e-07,  1.0000e+00]])\n",
      "torch.Size([4, 30, 512])\n",
      "torch.Size([30, 512])\n",
      "torch.Size([4, 30, 512])\n"
     ]
    },
    {
     "ename": "RuntimeError",
     "evalue": "The size of tensor a (30) must match the size of tensor b (60) at non-singleton dimension 1",
     "output_type": "error",
     "traceback": [
      "\u001b[31m---------------------------------------------------------------------------\u001b[39m",
      "\u001b[31mRuntimeError\u001b[39m                              Traceback (most recent call last)",
      "\u001b[36mCell\u001b[39m\u001b[36m \u001b[39m\u001b[32mIn[6]\u001b[39m\u001b[32m, line 20\u001b[39m\n\u001b[32m     16\u001b[39m \u001b[38;5;66;03m# x = torch.randn(batch_size, seq_len, d_model)\u001b[39;00m\n\u001b[32m     18\u001b[39m encoder = Encoder(d_model, num_heads, d_k, d_v, batch_size, d_inner)\n\u001b[32m---> \u001b[39m\u001b[32m20\u001b[39m output = \u001b[43mencoder\u001b[49m\u001b[43m(\u001b[49m\u001b[38;5;28;43minput\u001b[39;49m\u001b[43m)\u001b[49m\n\u001b[32m     22\u001b[39m \u001b[38;5;28mprint\u001b[39m(output.shape)  \u001b[38;5;66;03m# Should be: (2, 10, 512)\u001b[39;00m\n",
      "\u001b[36mFile \u001b[39m\u001b[32mc:\\Users\\Elena\\Documents\\elte\\sci\\emcomm\\Lib\\site-packages\\torch\\nn\\modules\\module.py:1739\u001b[39m, in \u001b[36mModule._wrapped_call_impl\u001b[39m\u001b[34m(self, *args, **kwargs)\u001b[39m\n\u001b[32m   1737\u001b[39m     \u001b[38;5;28;01mreturn\u001b[39;00m \u001b[38;5;28mself\u001b[39m._compiled_call_impl(*args, **kwargs)  \u001b[38;5;66;03m# type: ignore[misc]\u001b[39;00m\n\u001b[32m   1738\u001b[39m \u001b[38;5;28;01melse\u001b[39;00m:\n\u001b[32m-> \u001b[39m\u001b[32m1739\u001b[39m     \u001b[38;5;28;01mreturn\u001b[39;00m \u001b[38;5;28;43mself\u001b[39;49m\u001b[43m.\u001b[49m\u001b[43m_call_impl\u001b[49m\u001b[43m(\u001b[49m\u001b[43m*\u001b[49m\u001b[43margs\u001b[49m\u001b[43m,\u001b[49m\u001b[43m \u001b[49m\u001b[43m*\u001b[49m\u001b[43m*\u001b[49m\u001b[43mkwargs\u001b[49m\u001b[43m)\u001b[49m\n",
      "\u001b[36mFile \u001b[39m\u001b[32mc:\\Users\\Elena\\Documents\\elte\\sci\\emcomm\\Lib\\site-packages\\torch\\nn\\modules\\module.py:1750\u001b[39m, in \u001b[36mModule._call_impl\u001b[39m\u001b[34m(self, *args, **kwargs)\u001b[39m\n\u001b[32m   1745\u001b[39m \u001b[38;5;66;03m# If we don't have any hooks, we want to skip the rest of the logic in\u001b[39;00m\n\u001b[32m   1746\u001b[39m \u001b[38;5;66;03m# this function, and just call forward.\u001b[39;00m\n\u001b[32m   1747\u001b[39m \u001b[38;5;28;01mif\u001b[39;00m \u001b[38;5;129;01mnot\u001b[39;00m (\u001b[38;5;28mself\u001b[39m._backward_hooks \u001b[38;5;129;01mor\u001b[39;00m \u001b[38;5;28mself\u001b[39m._backward_pre_hooks \u001b[38;5;129;01mor\u001b[39;00m \u001b[38;5;28mself\u001b[39m._forward_hooks \u001b[38;5;129;01mor\u001b[39;00m \u001b[38;5;28mself\u001b[39m._forward_pre_hooks\n\u001b[32m   1748\u001b[39m         \u001b[38;5;129;01mor\u001b[39;00m _global_backward_pre_hooks \u001b[38;5;129;01mor\u001b[39;00m _global_backward_hooks\n\u001b[32m   1749\u001b[39m         \u001b[38;5;129;01mor\u001b[39;00m _global_forward_hooks \u001b[38;5;129;01mor\u001b[39;00m _global_forward_pre_hooks):\n\u001b[32m-> \u001b[39m\u001b[32m1750\u001b[39m     \u001b[38;5;28;01mreturn\u001b[39;00m \u001b[43mforward_call\u001b[49m\u001b[43m(\u001b[49m\u001b[43m*\u001b[49m\u001b[43margs\u001b[49m\u001b[43m,\u001b[49m\u001b[43m \u001b[49m\u001b[43m*\u001b[49m\u001b[43m*\u001b[49m\u001b[43mkwargs\u001b[49m\u001b[43m)\u001b[49m\n\u001b[32m   1752\u001b[39m result = \u001b[38;5;28;01mNone\u001b[39;00m\n\u001b[32m   1753\u001b[39m called_always_called_hooks = \u001b[38;5;28mset\u001b[39m()\n",
      "\u001b[36mFile \u001b[39m\u001b[32mc:\\Users\\Elena\\Documents\\elte\\sci\\ADND\\ADND_Assignment\\src\\encoder.py:19\u001b[39m, in \u001b[36mEncoder.forward\u001b[39m\u001b[34m(self, input)\u001b[39m\n\u001b[32m     17\u001b[39m \u001b[38;5;28;01mdef\u001b[39;00m\u001b[38;5;250m \u001b[39m\u001b[34mforward\u001b[39m(\u001b[38;5;28mself\u001b[39m, \u001b[38;5;28minput\u001b[39m):\n\u001b[32m     18\u001b[39m     attention_output = \u001b[38;5;28mself\u001b[39m.MHA(\u001b[38;5;28minput\u001b[39m, \u001b[38;5;28minput\u001b[39m, \u001b[38;5;28minput\u001b[39m)\n\u001b[32m---> \u001b[39m\u001b[32m19\u001b[39m     norm_output = \u001b[38;5;28mself\u001b[39m.norm1(\u001b[38;5;28;43minput\u001b[39;49m\u001b[43m \u001b[49m\u001b[43m+\u001b[49m\u001b[43m \u001b[49m\u001b[43mattention_output\u001b[49m)\n\u001b[32m     21\u001b[39m     fnn_output = \u001b[38;5;28mself\u001b[39m.FFN(norm_output)\n\u001b[32m     22\u001b[39m     output = \u001b[38;5;28mself\u001b[39m.norm2(norm_output + fnn_output)\n",
      "\u001b[31mRuntimeError\u001b[39m: The size of tensor a (30) must match the size of tensor b (60) at non-singleton dimension 1"
     ]
    }
   ],
   "source": [
    "d_model = 512\n",
    "num_heads = 8\n",
    "d_k = d_v = 64\n",
    "batch_size = 2\n",
    "seq_len = 10\n",
    "d_inner = 2048\n",
    "max_len = 30\n",
    "\n",
    "Embed = Embedding(max_len, d_model)\n",
    "tokens = torch.randint(0, 32, (4, max_len))  # give 32 random token indinces (batch of 4, sequence length 100)\n",
    "embedding = Embed(tokens)\n",
    "\n",
    "PosEnc = PosEncoding(d_model, max_len)\n",
    "input = PosEnc(embedding)\n",
    "\n",
    "# x = torch.randn(batch_size, seq_len, d_model)\n",
    "\n",
    "encoder = Encoder(d_model, num_heads, d_k, d_v, batch_size, d_inner)\n",
    "\n",
    "output = encoder(input)\n",
    "\n",
    "print(output.shape)  # Should be: (2, 10, 512)"
   ]
  },
  {
   "cell_type": "code",
   "execution_count": 69,
   "id": "cc17973c",
   "metadata": {},
   "outputs": [
    {
     "name": "stdout",
     "output_type": "stream",
     "text": [
      "tensor([[0.0000e+00, 1.0000e+00, 0.0000e+00, 1.0000e+00],\n",
      "        [8.4147e-01, 9.9995e-01, 1.0000e-04, 1.0000e+00],\n",
      "        [9.0930e-01, 9.9980e-01, 2.0000e-04, 1.0000e+00]])\n"
     ]
    },
    {
     "data": {
      "text/plain": [
       "tensor([[0.0000, 0.0000, 0.0000, 0.0000],\n",
       "        [0.8415, 0.8415, 0.8415, 0.8415],\n",
       "        [0.9093, 0.9093, 0.9093, 0.9093]])"
      ]
     },
     "execution_count": 69,
     "metadata": {},
     "output_type": "execute_result"
    }
   ],
   "source": [
    "pe = PosEncoding(max_len=3, embedding_dim=4)\n",
    "\n",
    "x = torch.zeros(1,4)\n",
    "\n",
    "pe(x)"
   ]
  },
  {
   "cell_type": "code",
   "execution_count": 70,
   "id": "98546ccb",
   "metadata": {},
   "outputs": [
    {
     "data": {
      "text/plain": [
       "tensor([[1.0000, 1.0000, 1.0000, 1.0000],\n",
       "        [1.8415, 1.8415, 1.8415, 1.8415],\n",
       "        [1.9093, 1.9093, 1.9093, 1.9093]])"
      ]
     },
     "execution_count": 70,
     "metadata": {},
     "output_type": "execute_result"
    }
   ],
   "source": [
    "y = torch.ones(1,4)\n",
    "\n",
    "pe(y)"
   ]
  },
  {
   "cell_type": "code",
   "execution_count": null,
   "id": "85ce49f4",
   "metadata": {},
   "outputs": [
    {
     "name": "stdout",
     "output_type": "stream",
     "text": [
      "Note: you may need to restart the kernel to use updated packages.\n"
     ]
    },
    {
     "name": "stderr",
     "output_type": "stream",
     "text": [
      "ERROR: Could not find a version that satisfies the requirement zeta (from versions: 0.7b1-py2.6.egg)\n",
      "ERROR: No matching distribution found for zeta\n",
      "\n",
      "[notice] A new release of pip is available: 24.0 -> 25.1\n",
      "[notice] To update, run: python.exe -m pip install --upgrade pip\n"
     ]
    }
   ],
   "source": [
    "# %pip install zeta"
   ]
  },
  {
   "cell_type": "code",
   "execution_count": null,
   "id": "4681316f",
   "metadata": {},
   "outputs": [],
   "source": []
  }
 ],
 "metadata": {
  "kernelspec": {
   "display_name": "emcomm",
   "language": "python",
   "name": "python3"
  },
  "language_info": {
   "codemirror_mode": {
    "name": "ipython",
    "version": 3
   },
   "file_extension": ".py",
   "mimetype": "text/x-python",
   "name": "python",
   "nbconvert_exporter": "python",
   "pygments_lexer": "ipython3",
   "version": "3.11.9"
  }
 },
 "nbformat": 4,
 "nbformat_minor": 5
}
